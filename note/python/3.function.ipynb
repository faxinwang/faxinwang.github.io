{
 "cells": [
  {
   "cell_type": "markdown",
   "metadata": {},
   "source": [
    "# 函数\n",
    "\n",
    "## 内建函数\n",
    "\n",
    "要使用内建的函数, 首先要导入相应的模块\n",
    "```python\n",
    "import math\n",
    "```\n",
    "上述的import 语句导入了一个名为math的模块, 可以理解为该语句创建了一个名为math的模块对象 <br>\n",
    "之后就可以通过点号 '.' 调用该对象的方法了"
   ]
  },
  {
   "cell_type": "code",
   "execution_count": 14,
   "metadata": {},
   "outputs": [
    {
     "name": "stdout",
     "output_type": "stream",
     "text": [
      "<module 'math' (built-in)>\n",
      "sin(2) =  0.9092974268256817\n",
      "sqrt(2) = 1.4142135623730951\n",
      "log(math.e) =  1.0\n",
      "log(4) =  1.3862943611198906\n",
      "log2(4) =  2.0\n",
      "log10(10) =  1.0\n",
      "pi =  3.141592653589793\n"
     ]
    }
   ],
   "source": [
    "import math\n",
    "\n",
    "print(math)\n",
    "print('sin(2) = ', math.sin(2))\n",
    "print('sqrt(2) =' , math.sqrt(2))\n",
    "print('log(math.e) = ', math.log(math.e))  # 以e为底e的对数\n",
    "print('log2(4) = ', math.log2(4))          # 以2为低的对数\n",
    "print('log10(10) = ', math.log10(10))      # 以10为低的对数\n",
    "print('log(4) = ', math.log(4))            \n",
    "print('pi = ', math.pi)"
   ]
  },
  {
   "cell_type": "markdown",
   "metadata": {},
   "source": [
    "## 自定义函数\n",
    "\n",
    "### 1.位置参数"
   ]
  },
  {
   "cell_type": "code",
   "execution_count": 6,
   "metadata": {},
   "outputs": [
    {
     "name": "stdout",
     "output_type": "stream",
     "text": [
      "2\n",
      "hello, this function has no return statement\n",
      "None\n"
     ]
    }
   ],
   "source": [
    "# 返回a,b中较小的一个, 这里 a, b 称为位置参数\n",
    "def my_min(a , b):\n",
    "    return a if a < b else b \n",
    "\n",
    "print(my_min(2, 3))\n",
    "\n",
    "#如果函数中没有reture语句, 则返回的是None\n",
    "def say_hello():\n",
    "    print('hello, this function has no return statement')\n",
    "\n",
    "print( say_hello() )"
   ]
  },
  {
   "cell_type": "markdown",
   "metadata": {},
   "source": [
    "### 位置参数带默认值\n",
    "\n",
    "* 在定义函数的时候, 可以给位置参数提供默认值,和c++,java语言一样, 带有默认值的位置参数必须出现在所有位置参数的最右边\n",
    "* 给位置参数传参时, 如果以关键字的方式传入参数, 则可以不按顺序提供\n",
    "* 需要注意的是, 默认参数最好使用不可变对象, 否则如果函数内部对可变参数对象进行了修改,则该修改会体现在后面的调用中, 因此很容易导致错误发生"
   ]
  },
  {
   "cell_type": "code",
   "execution_count": 29,
   "metadata": {
    "scrolled": false
   },
   "outputs": [
    {
     "name": "stdout",
     "output_type": "stream",
     "text": [
      "name =  jack\n",
      "age = 20\n",
      "tel =  120\n",
      "city =  bj\n",
      "---------------\n",
      "name =  jack\n",
      "age = 20\n",
      "tel =  110\n",
      "city =  hk\n",
      "---------------\n"
     ]
    }
   ],
   "source": [
    "# 带有默认值参数的函数\n",
    "def testDefaultArg(name, age, tel='110',  city='bj'):\n",
    "    print('name = ', name )\n",
    "    print('age =', age)\n",
    "    print('tel = ', tel)\n",
    "    print('city = ', city)\n",
    "    print('-' * 15)\n",
    "\n",
    "testDefaultArg('jack', 20, '120') \n",
    "#给位置参数传参时, 如果以关键字的方式传入参数, 则可以不按顺序提供\n",
    "testDefaultArg( age=20, name='jack', city = 'hk', tel='110' )"
   ]
  },
  {
   "cell_type": "markdown",
   "metadata": {},
   "source": [
    "### 2.可变参数\n",
    "\n",
    "* 使用星号 * 将一定范围内的位置参数收集成一个tuple(所谓的gather操作)\n",
    "* 收集的位置是从星号开始, 到后面所有的非关键字参数"
   ]
  },
  {
   "cell_type": "code",
   "execution_count": 3,
   "metadata": {},
   "outputs": [
    {
     "name": "stdout",
     "output_type": "stream",
     "text": [
      "(1, 2, 'hello', 3.4)\n",
      "(1, 2, 'hello', [2, 3, 5], ('a', 'b', 'c'))\n",
      "name =  jack, age =  20, ohter =  ('boy', 'like basketball')\n"
     ]
    }
   ],
   "source": [
    "def testVarLenArg(*args):\n",
    "    print(args)\n",
    "\n",
    "testVarLenArg(1,2, 'hello', 3.4)\n",
    "testVarLenArg(1,2, 'hello', [2,3,5], ('a','b','c'))\n",
    "\n",
    "def testVarLenArg2(name, age, *other):\n",
    "    print('name = ', name, end=', ')\n",
    "    print('age = ', age, end = ', ')\n",
    "    print('ohter = ', other)\n",
    "\n",
    "testVarLenArg2('jack', 20, 'boy', 'like basketball')\n"
   ]
  },
  {
   "cell_type": "markdown",
   "metadata": {},
   "source": [
    " ### 3.关键字参数\n",
    " \n",
    "使用两个连续的星号 ** 将从该位置开始后面的所有参数收集成一个dict传入函数"
   ]
  },
  {
   "cell_type": "code",
   "execution_count": 5,
   "metadata": {},
   "outputs": [
    {
     "name": "stdout",
     "output_type": "stream",
     "text": [
      "name =  jack, age =  20, kw =  {'sex': 'male', 'hobby': 'basketball', 'city': 'earth'}\n",
      "name =  jack, arg =  (20, 'male'), kw =  {'height': 180, 'hobby': 'basketball'}\n"
     ]
    }
   ],
   "source": [
    "def testKeywordArg(name, age, **kw):\n",
    "    print('name = ', name, end=', ')\n",
    "    print('age = ', age, end = ', ')\n",
    "    print( 'kw = ', kw)\n",
    "    \n",
    "testKeywordArg('jack', 20, sex='male', hobby='basketball', city = 'earth')\n",
    "\n",
    "# 下面这个例子中, arg收集了从第三个参数开始的所有非关键字参数\n",
    "# kw则收集了所有的关键字参数\n",
    "def testKeywordArg2(name, *arg , **kw):\n",
    "    print('name = ', name, end = ', ')\n",
    "    print('arg = ', arg, end = ', ')\n",
    "    print('kw = ', kw )\n",
    "    \n",
    "testKeywordArg2('jack', 20, 'male', height = 180, hobby='basketball')"
   ]
  },
  {
   "cell_type": "markdown",
   "metadata": {},
   "source": [
    "### 4.命名关键字参数\n",
    "\n",
    "在上面一个例子中, 我们并不知道函数接收了那些关键字参数, 这些关键字的名字是有调用者提供的.<br>\n",
    "那么如果我们想要特定名称的关键字参数,该怎么写呢"
   ]
  },
  {
   "cell_type": "code",
   "execution_count": 10,
   "metadata": {},
   "outputs": [
    {
     "name": "stdout",
     "output_type": "stream",
     "text": [
      "name =  jack, arg =  (20,), height =  180, hobby =  movie, kw =  {'sex': 'boy'}\n",
      "name =  jack, arg =  (), height =  180, hobby =  movie, kw =  {}\n"
     ]
    }
   ],
   "source": [
    "def testKeywordArg3(name, *arg, height, hobby, **kw):\n",
    "    print('name = ', name, end=', ')       #位置参数, 必须传入\n",
    "    print('arg = ', arg, end=', ')         #可变参数\n",
    "    print('height = ', height, end=', ')   #命名关键字参数, 必须传入\n",
    "    print('hobby = ', hobby, end=', ')     #命名关键字参数, 必须传入\n",
    "    print('kw = ', kw)                     # 关键字参数\n",
    "    \n",
    "testKeywordArg3('jack', 20, sex='boy', height=180, hobby='movie') #关键字参数可以任意顺序出现\n",
    "testKeywordArg3('jack', height=180, hobby='movie')\n",
    "\n",
    "# 其中, 命名关键字参数前面必须要有一个可变参数, 否则这里的 height,hobby 都会被识别成位置参数"
   ]
  },
  {
   "cell_type": "markdown",
   "metadata": {},
   "source": [
    "<br>\n",
    "如果不需要可变参数, 但又需要命名关键字参数,则可以在命名关键字参数前面添加一个 *"
   ]
  },
  {
   "cell_type": "code",
   "execution_count": 1,
   "metadata": {
    "scrolled": true
   },
   "outputs": [
    {
     "name": "stdout",
     "output_type": "stream",
     "text": [
      "name =  jack, height =  180, hobby =  movie, kw =  {'age': 20, 'sex': 'boy'}\n",
      "testKeywordArg4() takes 1 positional argument but 2 positional arguments (and 2 keyword-only arguments) were given\n"
     ]
    }
   ],
   "source": [
    "def testKeywordArg4(name, * , height, hobby, **kw):\n",
    "    print('name = ', name, end=', ')       #位置参数, 必须传入\n",
    "    print('height = ', height, end=', ')   #命名关键字参数, 必须传入\n",
    "    print('hobby = ', hobby, end=', ')     #命名关键字参数, 必须传入\n",
    "    print('kw = ', kw)                     #关键字参数\n",
    "\n",
    "testKeywordArg4('jack', age=20, height=180, hobby='movie', sex='boy')\n",
    "# 此时不能再传入多余的位置参数, 否则会报错\n",
    "try:\n",
    "    testKeywordArg4('jack', 20, height=180, hobby='movie', sex='boy')\n",
    "except Exception as e:\n",
    "    print(e)"
   ]
  },
  {
   "cell_type": "markdown",
   "metadata": {},
   "source": [
    "## 组合\n",
    "\n",
    "这里组合 **位置参数**, **可变参数**, **命名关键字参数**, **关键字参数**, 写一个综合的例子<br>\n",
    "如果上述这些参数同时出现, 其顺序必须同上"
   ]
  },
  {
   "cell_type": "code",
   "execution_count": 26,
   "metadata": {
    "scrolled": true
   },
   "outputs": [
    {
     "name": "stdout",
     "output_type": "stream",
     "text": [
      "name =  jack\n",
      "age =  test1\n",
      "arg =  ('test2',)\n",
      "height =  180\n",
      "hobby =  movie\n",
      "kw =  {'key1': 'value1', 'key2': 'value2'}\n"
     ]
    }
   ],
   "source": [
    "def testArgs(name, age=20, *arg, height=180, hobby='movie', **kw):\n",
    "    print('name = ', name)       # 位置参数\n",
    "    print('age = ', age)         # 位置参数, 其默认值被'test1'覆盖了\n",
    "    print('arg = ', arg)         # 可变参数\n",
    "    print('height = ', height)   # 命名关键字参数\n",
    "    print('hobby = ', hobby)     # 命名关键字参数\n",
    "    print('kw = ', kw)           # 关键字参数\n",
    "testArgs('jack', 'test1', 'test2', key1='value1', key2='value2')\n",
    "\n",
    "# 可以看到, age的默认值被 'test1' 覆盖了, 说明可变参数不会收集其前面的位置参数,即使他们有默认值"
   ]
  }
 ],
 "metadata": {
  "kernelspec": {
   "display_name": "Python 3",
   "language": "python",
   "name": "python3"
  },
  "language_info": {
   "codemirror_mode": {
    "name": "ipython",
    "version": 3
   },
   "file_extension": ".py",
   "mimetype": "text/x-python",
   "name": "python",
   "nbconvert_exporter": "python",
   "pygments_lexer": "ipython3",
   "version": "3.7.0"
  }
 },
 "nbformat": 4,
 "nbformat_minor": 2
}
