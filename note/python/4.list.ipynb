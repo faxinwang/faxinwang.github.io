{
 "cells": [
  {
   "cell_type": "markdown",
   "metadata": {},
   "source": [
    "# list\n",
    "\n",
    "## A list is a sequence of anything"
   ]
  },
  {
   "cell_type": "code",
   "execution_count": 1,
   "metadata": {},
   "outputs": [
    {
     "name": "stdout",
     "output_type": "stream",
     "text": [
      "t1 :  [2, 3, 4]\n",
      "t2 :  [2, 3, 4]\n",
      "t3 :  [[2, 3, 4], [2, 3, 4]]\n",
      "t4 :  [2, 3, 4, 5]\n",
      "t5 :  ['u', 's', 'e', ' ', 'a', ' ', 's', 't', 'r', 'i', 'n', 'g', ' ', 't', 'o', ' ', 'c', 'r', 'e', 'a', 't', 'e', ' ', 'a', ' ', 'l', 'i', 's', 't']\n",
      "t6 :  [4, 'string', 4.5, [2, 3, 4]]\n"
     ]
    }
   ],
   "source": [
    "\n",
    "t1 = [2,3,4]             # 使用中括号创建list\n",
    "t2 = list(t1)             # 使用list()函数创建list, 用另一个序列初始化\n",
    "t3 = [t1, t2]             # t3 is a list of two lists\n",
    "t4 = [*t1, 5]             # use scatter to unfold t1, and then used to form t4\n",
    "t5 = list('use a string to create a list') # 使用字符串初始化list\n",
    "t6 = [4, 'string', 4.5, t1]   # list中的元素可以是不同的数据类型\n",
    "\n",
    "print('t1 : ', t1)\n",
    "print('t2 : ', t2)\n",
    "print('t3 : ', t3)\n",
    "print('t4 : ', t4)\n",
    "print('t5 : ', t5)\n",
    "print('t6 : ', t6)"
   ]
  },
  {
   "cell_type": "markdown",
   "metadata": {},
   "source": [
    "\n",
    "## 与list相关的操作\n"
   ]
  },
  {
   "cell_type": "code",
   "execution_count": 2,
   "metadata": {
    "scrolled": true
   },
   "outputs": [
    {
     "name": "stdout",
     "output_type": "stream",
     "text": [
      "t1 :  [0, 3, 4]\n",
      "0\n",
      "3\n",
      "4\n",
      "t1[0] = 0\n",
      "t1[1] = 3\n",
      "t1[2] = 4\n",
      "t1 + t2 :  [0, 3, 4, 2, 3, 4]\n",
      "t1 * 3 :  [0, 3, 4, 0, 3, 4, 0, 3, 4]\n",
      "t1 :  [0, 3, 4, 5]\n",
      "t1 :  [0, 3, 4, 5, 0, 3, 4, 5]\n",
      "t1 :  [0, 0, 3, 3, 4, 4, 5, 5]\n",
      "t1 :  [0, 3, 3, 4, 4, 5]\n",
      "t1 :  [0, 4, 4, 5]\n",
      "t1 :  [0, 4, 5]\n"
     ]
    }
   ],
   "source": [
    "# 通过下标访问元素\n",
    "t1[0] = 0\n",
    "print('t1 : ', t1)\n",
    "\n",
    "# 使用 for 遍历list:\n",
    "for x in t1: print(x)\n",
    "\n",
    "# 使用 下标遍历 list\n",
    "for i in range(len(t1)): \n",
    "    print( 't1[{0}] = {1}'.format(i, t1[i]) )  #使用了格式化输出{}中的数字使用format()中对应位置的参数替换\n",
    "\n",
    "# 使用+号连接两个list\n",
    "print('t1 + t2 : ', t1 + t2)\n",
    "\n",
    "# 使用乘号*重复一个list\n",
    "print('t1 * 3 : ' , t1 * 3 )\n",
    "\n",
    "# 往列表末尾添加一个元素\n",
    "t1.append(5)\n",
    "print('t1 : ', t1)\n",
    "\n",
    "#往列表里面添加另一个列表的所有元素(可以是自己)\n",
    "t1.extend(t1)\n",
    "print('t1 : ', t1)\n",
    "\n",
    "# 对列表排序\n",
    "t1.sort()\n",
    "print('t1 : ', t1)\n",
    "\n",
    "#删除列表里面的元素\n",
    "\n",
    "t1.pop()  # 删除最后的一个元素\n",
    "del t1[0]  # 删除下标为0的元素\n",
    "print('t1 : ', t1)\n",
    "\n",
    "del t1[1:3] # 删除下标为1,2的元素\n",
    "print('t1 : ', t1)\n",
    "\n",
    "t1.remove(4) #删除第一个元素值为4的元素\n",
    "print('t1 : ', t1)\n",
    "\n"
   ]
  },
  {
   "cell_type": "markdown",
   "metadata": {},
   "source": [
    "## 切片\n",
    "\n",
    "切片语法可以作用在list, tuple, str等这些线性数据结构上\n",
    "python, matlab, octave这些脚本语言中都有类似的切片语法.\n",
    "\n",
    "**切片是生成list的一种语法**"
   ]
  },
  {
   "cell_type": "code",
   "execution_count": 3,
   "metadata": {},
   "outputs": [
    {
     "name": "stdout",
     "output_type": "stream",
     "text": [
      "t[:3] =  [0, 1, 2]\n",
      "t[3:] =  [3, 4, 5, 6, 7, 8, 9, 10]\n",
      "t[3:-1] =  [3, 4, 5, 6, 7, 8, 9]\n",
      "t[ : :1] =  [0, 1, 2, 3, 4, 5, 6, 7, 8, 9, 10]\n",
      "t[ : :2] =  [0, 2, 4, 6, 8, 10]\n",
      "t[ 1: -1 :3] =  [1, 4, 7]\n",
      "tt :  [0, 1, 2, 3, 4, 5, 6, 7, 8, 9, 10]\n",
      "tt :  [0, 1, 2, 0, 8, 9, 10]\n"
     ]
    }
   ],
   "source": [
    "t = [0,1,2,3,4,5,6,7,8,9,10]\n",
    "print('t[:3] = ', t[:3])  # 获取[0:3)范围的元素\n",
    "print('t[3:] = ', t[3:])  # 获取从3开始的所有元素\n",
    "print('t[3:-1] = ', t[3:-1])     # -1表示最后一个位置, -2表示倒数第2个位置, 依次类推\n",
    "\n",
    "#使用步长获取固定步长的元素\n",
    "print('t[ : :1] = ', t[ : : 1])  \n",
    "print('t[ : :2] = ', t[ : : 2])\n",
    "print('t[ 1: -1 :3] = ', t[ 1: -1 : 3])\n",
    "\n",
    "# 使用切片复制一个list\n",
    "tt = t[ : ]\n",
    "print('tt : ', tt)\n",
    "\n",
    "# 切片可以作为左值使用\n",
    "tt[3:8] = [0]   # 用列表[0] 覆盖列表 tt[3:6]\n",
    "print('tt : ', tt)\n"
   ]
  },
  {
   "cell_type": "markdown",
   "metadata": {},
   "source": [
    "## map, reduce, filter\n",
    "\n",
    "高阶函数, 使用另一个函数作为参数, 来作用于集合中的元素上<br>\n",
    "大部分复杂的集合操作都可以通过这三种操作的结合来实现\n",
    "\n",
    "### map\n",
    "map(fun, lst), 第一个参数是一个只接收一个参数的函数, 第二个参数是一个可以迭代的序列 <br>\n",
    "map将fun作用于lst中的每一个元素, 可以认为map封装fun对lst[i] 的操作<br>\n",
    "通过list()可以将map对象转换为list对象\n",
    "![map示意图](img/3.map.png)"
   ]
  },
  {
   "cell_type": "code",
   "execution_count": 4,
   "metadata": {},
   "outputs": [
    {
     "name": "stdout",
     "output_type": "stream",
     "text": [
      "ABCDEFG\n",
      "low :  ['a', 'b', 'c', 'd', 'e', 'f', 'g']\n",
      "up :  <map object at 0x0000000004C10F60>\n",
      "list_up :  ['A', 'B', 'C', 'D', 'E', 'F', 'G']\n"
     ]
    }
   ],
   "source": [
    "# 比如字符串类中就有与map作用类似的函数\n",
    "s = 'abcdefg'\n",
    "print(s.upper()) # 将s中的每一个元素都转换为大写字母\n",
    "\n",
    "low = list(s); \n",
    "print('low : ', low)\n",
    "up = map(str.upper, low)  # 第一个参数是一个函数, 第二个参数是一个list\n",
    "print('up : ', up)\n",
    "list_up = list(up)\n",
    "print('list_up : ', list_up)"
   ]
  },
  {
   "cell_type": "markdown",
   "metadata": {},
   "source": [
    "## reduce\n",
    "\n",
    "reduce(fun, lst) 第一个参数是一个函数, 第二个参数是一个可以迭代的序列 <br>\n",
    "reduce将函数fun作用到lst的每个元素上并产生一个输出<br>"
   ]
  },
  {
   "cell_type": "code",
   "execution_count": 5,
   "metadata": {
    "scrolled": true
   },
   "outputs": [
    {
     "name": "stdout",
     "output_type": "stream",
     "text": [
      "sum(lst) =  21\n",
      "result :  21\n",
      "True\n",
      "True\n"
     ]
    }
   ],
   "source": [
    "from functools import reduce \n",
    "\n",
    "# 举个栗子\n",
    "lst = [1,2,3,4,5,6]\n",
    "print('sum(lst) = ', sum(lst) ) # 这一步可以理解为add(add(add(add(add(1, 2), 3), 4), 5), 6)\n",
    "\n",
    "# reduce 就是这样工作的\n",
    "def myadd(a, b):\n",
    "    return a+b\n",
    "result = reduce(myadd, lst)\n",
    "print('result : ', result)\n",
    "\n",
    "#再举一个栗子, 写一个函数判断一个数字是否是回文数\n",
    "def is_palindrome1(n):\n",
    "    return str(n) == reduce(lambda x,y : y + x, str(n) )\n",
    "\n",
    "def is_palindrome2(n):\n",
    "    return list(str(n)) == list(reversed(list(str(n))))\n",
    "\n",
    "print(is_palindrome1(1234321))\n",
    "print(is_palindrome2(1234321))\n"
   ]
  },
  {
   "cell_type": "markdown",
   "metadata": {},
   "source": [
    "## filter\n",
    "\n",
    "filer(fun, lst) 第一个参数是一个函数, 第二个参数是一个可以迭代的序列 <br>\n",
    "filter将函数fun作用于lst的每一个元素, 并根据fun返回值是 `Ture` 还是`False` 决定保留还是丢弃该元素 <br>\n",
    "使用 filter 也需要导入`functools` 模块"
   ]
  },
  {
   "cell_type": "code",
   "execution_count": 6,
   "metadata": {},
   "outputs": [
    {
     "name": "stdout",
     "output_type": "stream",
     "text": [
      "[0, 1, 2, 3, 4, 5, 6, 7, 8, 9]\n",
      "[1, 3, 5, 7, 9]\n",
      "['t', 'h', 'i', 's', ' ', 'i', 's', ' ', 'a', ' ', 's', 't', 'r', 'i', 'n', 'g']\n",
      "['t', 'h', 'i', 's', 'i', 's', 'a', 's', 't', 'r', 'i', 'n', 'g']\n"
     ]
    }
   ],
   "source": [
    "lst = [i for i in range(10)]\n",
    "print(lst)\n",
    "\n",
    "def is_odd(n): \n",
    "    return n % 2 == 1\n",
    "\n",
    "print( list(filter(is_odd, lst)) ) # 过滤掉偶数\n",
    "\n",
    "lst = list('this is a string')\n",
    "print(lst)\n",
    "\n",
    "def not_empty(s):\n",
    "    return s and s.strip()\n",
    "\n",
    "print( list(filter(not_empty, lst)) )"
   ]
  },
  {
   "cell_type": "markdown",
   "metadata": {},
   "source": [
    "##  List comprehensions (列表生成式)\n",
    "\n",
    "列表生成式是一种简洁且高效的生成list对象的一种语法\n",
    "看例子:"
   ]
  },
  {
   "cell_type": "code",
   "execution_count": 2,
   "metadata": {},
   "outputs": [
    {
     "name": "stdout",
     "output_type": "stream",
     "text": [
      "[0, 1, 4, 9, 16, 25, 36, 49, 64, 81]\n",
      "[1, 9, 25, 49, 81]\n"
     ]
    }
   ],
   "source": [
    "t1 = [ x**2 for x in range(10) ]  # 生成0到4的平方,作为列表元素\n",
    "print( t1 ) \n",
    "\n",
    "t2 = [ x for x in t1 if  x % 2 ]  # 当后面的if 条件为True时, 当前元素才会保留下来, 这里只保留了奇数\n",
    "print( t2 )\n",
    "\n"
   ]
  }
 ],
 "metadata": {
  "kernelspec": {
   "display_name": "Python 3",
   "language": "python",
   "name": "python3"
  },
  "language_info": {
   "codemirror_mode": {
    "name": "ipython",
    "version": 3
   },
   "file_extension": ".py",
   "mimetype": "text/x-python",
   "name": "python",
   "nbconvert_exporter": "python",
   "pygments_lexer": "ipython3",
   "version": "3.7.0"
  }
 },
 "nbformat": 4,
 "nbformat_minor": 2
}
