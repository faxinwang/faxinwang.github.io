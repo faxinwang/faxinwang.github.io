{
 "cells": [
  {
   "cell_type": "markdown",
   "metadata": {},
   "source": [
    "# unittest\n",
    "\n",
    "### 1.编写一个自己的类,继承自 dict, 放在文件mydict.py 中"
   ]
  },
  {
   "cell_type": "code",
   "execution_count": 6,
   "metadata": {},
   "outputs": [],
   "source": [
    "class Dict(dict):\n",
    "    def __init__(self, **kw):\n",
    "        super().__init__(kw)\n",
    "        \n",
    "    def __getattr__(self, key):\n",
    "        try:\n",
    "            return self[key]\n",
    "        except KeyError:\n",
    "            raise AttributeError(b'\"Dict object has not attribute {0}\"'.format(key) )\n",
    "    def __setattr__(self, key, value):\n",
    "        self[key] = value\n"
   ]
  },
  {
   "cell_type": "markdown",
   "metadata": {},
   "source": [
    "\n",
    "###  2.测试代码放在单独的mydict_test.py文件里面\n"
   ]
  },
  {
   "cell_type": "code",
   "execution_count": null,
   "metadata": {},
   "outputs": [],
   "source": [
    "import unittest\n",
    "from mydict import Dict \n",
    "\n",
    "# 自定义测试类继承自 unittest.TestCase\n",
    "class TestDict(unittest.TestCase):\n",
    "    \n",
    "    # 此方法在每个测试函数执行前调用\n",
    "    def setUp(self):\n",
    "        print('begin testing...')\n",
    "    # 此方法在每个测试函数执行后调用\n",
    "    def tearDown(self):\n",
    "        print('test finished!\\n')\n",
    "        \n",
    "    # 一般将函数执行前需要初始化或者善后工作的代码, 放在上面两个函数中\n",
    "    \n",
    "    # 以 test 开头的方法, 都是用于进行单元测试的方法, 会被自动执行\n",
    "    def test_init(self):\n",
    "        d = Dict(a = 520,  b = 'love')\n",
    "        self.assertEqual(d.a, 520)\n",
    "        self.assertEqual(d.b, 'love')\n",
    "        self.assertTrue(isinstance(d, dict))\n",
    "    \n",
    "    def test_key(self):\n",
    "        d = Dict()\n",
    "        d['key'] = 'value'\n",
    "        self.assertEqual(d.key, 'value')\n",
    "    \n",
    "    def test_attr(self):\n",
    "        d = Dict()\n",
    "        d.key = 'value'\n",
    "        self.assertTrue('key' in d)\n",
    "        self.assertEqual(d['key'], 'value')\n",
    "    \n",
    "    def test_keyerror(self):\n",
    "        d = Dict()\n",
    "        with self.assertRaises(KeyError): # 表示期望下面的代码抛出一个 KeyError 异常\n",
    "            value = d['no_such_key']      # 访问一个不存在的键\n",
    "    \n",
    "    def test_attrerror(self):\n",
    "        d = Dict()\n",
    "        with self.assertRaises(AttributeError): # 表示期望下面代码抛出一个 AttributeError\n",
    "            d.no_such_attr                      # 访问一个不存在的属性\n",
    "        \n",
    "\n",
    "if __name__ == '__main__':\n",
    "    unittest.main()\n"
   ]
  },
  {
   "cell_type": "markdown",
   "metadata": {},
   "source": [
    "### 3.在命令行执行如下命令, 运行测试代码"
   ]
  },
  {
   "cell_type": "code",
   "execution_count": null,
   "metadata": {},
   "outputs": [],
   "source": [
    "# 在命令行运行\n",
    "python mydict_test.py\n",
    "#或者 运行测试代码\n",
    "python -m unittest mydict_test.py"
   ]
  }
 ],
 "metadata": {
  "kernelspec": {
   "display_name": "Python 3",
   "language": "python",
   "name": "python3"
  },
  "language_info": {
   "codemirror_mode": {
    "name": "ipython",
    "version": 3
   },
   "file_extension": ".py",
   "mimetype": "text/x-python",
   "name": "python",
   "nbconvert_exporter": "python",
   "pygments_lexer": "ipython3",
   "version": "3.7.0"
  }
 },
 "nbformat": 4,
 "nbformat_minor": 2
}
