{
 "cells": [
  {
   "cell_type": "markdown",
   "metadata": {},
   "source": [
    "# dict\n",
    "\n",
    "## create a dictionary\n"
   ]
  },
  {
   "cell_type": "code",
   "execution_count": 1,
   "metadata": {},
   "outputs": [
    {
     "name": "stdout",
     "output_type": "stream",
     "text": [
      "d1 :  {'1': 1, '2': 2, '3': 3, '4': 4, '5': 5, '6': 7, '8': 8, '9': 9, '0': 0}\n",
      "d2 :  {}\n",
      "d1[\"3\"] :  3\n",
      "d2.get(\"3\") :  None\n",
      "d2.get(\"3\") :  0\n",
      "\n"
     ]
    }
   ],
   "source": [
    "d1 = {'1':1, '2':2, '3':3, '4' : 4, '5':5, '6':7, '8':8, '9':9, '0':0 }\n",
    "d2 = dict()\n",
    "\n",
    "print('d1 : ', d1)\n",
    "print('d2 : ', d2)\n",
    "\n",
    "print('d1[\"3\"] : ', d1[\"3\"])\n",
    "print('d2.get(\"3\") : ', d2.get('3'))\n",
    "print('d2.get(\"3\") : ', d2.get('3', 0))\n",
    "print()"
   ]
  },
  {
   "cell_type": "code",
   "execution_count": 3,
   "metadata": {
    "scrolled": true
   },
   "outputs": [
    {
     "name": "stdout",
     "output_type": "stream",
     "text": [
      "{'a': 1, 'b': 2, 'c': 3}\n",
      "{'1': 1, '2': 2, '3': 3}\n",
      "{'one': 1, 'two': 2, 'three': 3}\n",
      "{1: 'one', 2: 'two', 3: 'three'}\n"
     ]
    }
   ],
   "source": [
    "# 使用一个二元组的列表创建dict, 二元组中的第一个用于key, 第二个作为value\n",
    "# 作为key的对象需要是可哈希的不可变对象\n",
    "t1 = [('a', 1), ('b',2), ('c', 3)]\n",
    "d3 = dict(t1)\n",
    "print(d3)\n",
    "\n",
    "\n",
    "# 使用dict()结合zip()创建dict对象\n",
    "d4 = dict( zip('123', range(1,4)) )\n",
    "print(d4)\n",
    "\n",
    "t2 = ['one', 'two', 'three']\n",
    "t3 = [i for i in range(1,4)]\n",
    "print( dict(zip(t2, t3)) )\n",
    "print( dict(zip(t3, t2)) )"
   ]
  },
  {
   "cell_type": "markdown",
   "metadata": {},
   "source": [
    "## traversing a dictionary"
   ]
  },
  {
   "cell_type": "code",
   "execution_count": 8,
   "metadata": {},
   "outputs": [
    {
     "name": "stdout",
     "output_type": "stream",
     "text": [
      "1 1\n",
      "2 2\n",
      "3 3\n",
      "4 4\n",
      "5 5\n",
      "6 7\n",
      "8 8\n",
      "9 9\n",
      "0 0\n"
     ]
    }
   ],
   "source": [
    "for c, k in d1.items():\n",
    "    print(c, k)"
   ]
  }
 ],
 "metadata": {
  "kernelspec": {
   "display_name": "Python 3",
   "language": "python",
   "name": "python3"
  },
  "language_info": {
   "codemirror_mode": {
    "name": "ipython",
    "version": 3
   },
   "file_extension": ".py",
   "mimetype": "text/x-python",
   "name": "python",
   "nbconvert_exporter": "python",
   "pygments_lexer": "ipython3",
   "version": "3.7.0"
  }
 },
 "nbformat": 4,
 "nbformat_minor": 2
}
