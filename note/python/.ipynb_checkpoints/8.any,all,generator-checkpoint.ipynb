{
 "cells": [
  {
   "cell_type": "markdown",
   "metadata": {},
   "source": [
    "# any, all, generator\n",
    "\n",
    "## generator expression (生成式)\n",
    "\n",
    "* **生成式** 与 **列表生成式** 语法非常类似, 把**列表生产式**中的方括号换成圆括号, 就变成了生成式.<br>\n",
    "* **列表生产式**生成的是一个list对象, **生成式**产生的是一个 generator 对象<br>\n",
    "* 任何需要一个可以遍历的序列(sequence)的地方, 都可以使用list或者generator\n",
    "\n",
    "list对象和generator都可用于迭代, 但list对象在迭代之前, 所有元素的值都已经计算好了, 并且保存在内存中,\n",
    "但时generator对象的元素在需要获取时才会进行计算, 尚未迭代到的元素还不存在, 因此不占用内存.\n",
    "generator对象保存了当前迭代的位置和生成下一个元素的方法, 这种方式被称为 **懒惰计算**"
   ]
  },
  {
   "cell_type": "code",
   "execution_count": 6,
   "metadata": {},
   "outputs": [
    {
     "name": "stdout",
     "output_type": "stream",
     "text": [
      "<generator object <genexpr> at 0x0000000004E00DE0>\n",
      "[0, 1, 4, 9, 16, 25, 36, 49, 64, 81]\n",
      "[]\n"
     ]
    }
   ],
   "source": [
    "g = ( x**2 for x in range(10) )  # 生成一个 generator 对象\n",
    "print(g)\n",
    "print( list( g ) )  # 使用list()函数, 获取generator的所有元素\n",
    "print( list( g ) )  # generator是一次性的, 遍历完后, 将不会重新生成序列, 所里这里得到了一个空列表\n"
   ]
  },
  {
   "cell_type": "code",
   "execution_count": 7,
   "metadata": {},
   "outputs": [
    {
     "name": "stdout",
     "output_type": "stream",
     "text": [
      "16\n",
      "0\n",
      "30\n"
     ]
    }
   ],
   "source": [
    "# generator与其他接受可变参数的函数结合\n",
    "\n",
    "#这里生产式表达式作为了max()函数的参数, 没有用额外的圆括号, 但单独使用时, 圆括号是必须的\n",
    "print( max( x**2 for x in range(5) ) )   \n",
    "print( min( x**2 for x in range(5) ) )\n",
    "print( sum( x**2 for x in range(5) ) )"
   ]
  },
  {
   "cell_type": "markdown",
   "metadata": {},
   "source": [
    "## generator function (生成函数)\n",
    "\n",
    "调用生成函数的时候返回的是一个generator, 而不是直接返回其值"
   ]
  },
  {
   "cell_type": "code",
   "execution_count": 1,
   "metadata": {},
   "outputs": [
    {
     "name": "stdout",
     "output_type": "stream",
     "text": [
      "1\n",
      "1\n",
      "2\n",
      "3\n",
      "5\n"
     ]
    }
   ],
   "source": [
    "def fib(n):\n",
    "    i,a,b = 0,0,1\n",
    "    while i < n:\n",
    "        yield b\n",
    "        a, b = b, a+b\n",
    "        i += 1\n",
    "\n",
    "g = fib(5)  # g是一个generator,而不是斐波那契序列中第六个元素的值\n",
    "for f in g:\n",
    "    print(f)"
   ]
  },
  {
   "cell_type": "markdown",
   "metadata": {},
   "source": [
    "利用generator function 可以实现非常复杂的生成器, 例如下面这个生成函数每次返回杨辉三角的下一行元素"
   ]
  },
  {
   "cell_type": "code",
   "execution_count": 6,
   "metadata": {},
   "outputs": [
    {
     "name": "stdout",
     "output_type": "stream",
     "text": [
      "[1]\n",
      "[1, 1]\n",
      "[1, 2, 1]\n",
      "[1, 3, 3, 1]\n",
      "[1, 4, 6, 4, 1]\n",
      "[1, 5, 10, 10, 5, 1]\n",
      "[1, 6, 15, 20, 15, 6, 1]\n",
      "[1, 7, 21, 35, 35, 21, 7, 1]\n",
      "[1, 8, 28, 56, 70, 56, 28, 8, 1]\n",
      "[1, 9, 36, 84, 126, 126, 84, 36, 9, 1]\n"
     ]
    }
   ],
   "source": [
    "def triangles(n):\n",
    "    k, t = 0, [1]\n",
    "    while k < n:\n",
    "        yield t\n",
    "        t = [1] + [ t[i-1] + t[i] for i in range(1, len(t)) ]  +  [1]\n",
    "        k += 1\n",
    "\n",
    "tr = triangles(10)\n",
    "for t in tr:\n",
    "    print(t)"
   ]
  },
  {
   "cell_type": "markdown",
   "metadata": {},
   "source": [
    "## any\n",
    "\n",
    "* any(seq) 函数以一个布尔序列作为参数, 只要序列中有一个值为`True`, 则any() 返回`True`, 否则返回`False`\n",
    "* any 与 generator结合时, 当计算得到一个值为`True`的元素后, 就直接返回`True`而不需要继续计算后续的值,因而效率比同样的序列用list表示时高, 这有点像**短路或**运算, 一旦能确定整个表达式的值, 就不评估后续的值."
   ]
  },
  {
   "cell_type": "code",
   "execution_count": 17,
   "metadata": {},
   "outputs": [
    {
     "name": "stdout",
     "output_type": "stream",
     "text": [
      "False\n",
      "False\n",
      "True\n",
      "True\n",
      "(g中倒数第三个元素的值是True, 后面应该还有两个False)\n",
      "False\n",
      "False\n"
     ]
    }
   ],
   "source": [
    "print( any( [0, 0, 0 ] ) )     # any() 与list一起使用 , 0 等于`False`\n",
    "print( any( (0, 0, 0) ) )    # any() 与tuple一起使用  \n",
    "print( any( [0, 0, 1] ) )     # 1 等于 True\n",
    "\n",
    "# any() 与 generator结合使用\n",
    "g = ( char == 't' for char in 'generator') \n",
    "print( any( g ) )    # any() 与generator一起使用, 省去了 generator expression的圆括号\n",
    "print('(g中倒数第三个元素的值是True, 后面应该还有两个`False`)')\n",
    "for char in g : print( char )"
   ]
  },
  {
   "cell_type": "markdown",
   "metadata": {},
   "source": [
    "## all\n",
    "\n",
    "all(seq) 函数以一个布尔序列作为参数, 只要序列中有一个值为`False`, 则all()返回`False`,仅当序列的值<br>\n",
    "全为 `True` 时, all()才返回True. 与**短路与**运算类似, 当遇到一个`False`值时, 就可以直接返回`False`了<br>\n",
    "同样的原因, all()与generator结合使用时, 效率比与list结合使用时高."
   ]
  },
  {
   "cell_type": "code",
   "execution_count": 19,
   "metadata": {},
   "outputs": [
    {
     "name": "stdout",
     "output_type": "stream",
     "text": [
      "True\n",
      "False\n",
      "1\n",
      "2\n",
      "3\n",
      "4\n",
      "5\n"
     ]
    }
   ],
   "source": [
    "t = [1,1,1,'0' ] # '0' 被视为 True\n",
    "print( all(t) )\n",
    "\n",
    "# 与generator结合使用\n",
    "g = (x for x in range(-5, 6))\n",
    "print( all( g ) )\n",
    "# 由于0被视为False, 因此当计算得到0后, all()就直接返回False了, g中后续的元素还没有取出\n",
    "for x in g : print(x) # 打印出 g 中后续的元素"
   ]
  }
 ],
 "metadata": {
  "kernelspec": {
   "display_name": "Python 3",
   "language": "python",
   "name": "python3"
  },
  "language_info": {
   "codemirror_mode": {
    "name": "ipython",
    "version": 3
   },
   "file_extension": ".py",
   "mimetype": "text/x-python",
   "name": "python",
   "nbconvert_exporter": "python",
   "pygments_lexer": "ipython3",
   "version": "3.7.0"
  }
 },
 "nbformat": 4,
 "nbformat_minor": 2
}
