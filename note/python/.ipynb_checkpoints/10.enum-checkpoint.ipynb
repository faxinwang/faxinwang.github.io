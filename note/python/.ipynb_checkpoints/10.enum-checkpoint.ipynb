{
 "cells": [
  {
   "cell_type": "markdown",
   "metadata": {},
   "source": [
    "# enum\n",
    "\n",
    "## 使用Enum创建枚举类\n"
   ]
  },
  {
   "cell_type": "code",
   "execution_count": 23,
   "metadata": {},
   "outputs": [
    {
     "name": "stdout",
     "output_type": "stream",
     "text": [
      "Jan  =  1\n",
      "Feb  =  2\n",
      "Mar  =  3\n",
      "Apr  =  4\n",
      "May  =  5\n",
      "Jun  =  6\n",
      "Jul  =  7\n",
      "Aug  =  8\n",
      "Sep  =  9\n",
      "Oct  =  10\n",
      "Nov  =  11\n",
      "Dec  =  12\n"
     ]
    }
   ],
   "source": [
    "from enum import Enum, unique\n",
    "\n",
    "Month = Enum('Month',('Jan','Feb','Mar','Apr','May','Jun','Jul','Aug','Sep','Oct','Nov','Dec'))\n",
    "\n",
    "#遍历枚举类\n",
    "for a in Month:\n",
    "    print(a.name, ' = ', a.value) # value属性是自动赋给成员的int常量，默认从1开始计数"
   ]
  },
  {
   "cell_type": "code",
   "execution_count": 22,
   "metadata": {},
   "outputs": [
    {
     "name": "stdout",
     "output_type": "stream",
     "text": [
      "Jan  =  1\n",
      "day1 == Month.Jan :  True\n",
      "day1 == Month.Feb :  False\n",
      "day1 in Month :  True\n"
     ]
    }
   ],
   "source": [
    "day1 = Month.Jan\n",
    "print(day1.name, ' = ', day1.value)\n",
    "print('day1 == Month.Jan : ', day1 == Month.Jan)\n",
    "print('day1 == Month.Feb : ', day1 == Month.Feb)\n",
    "print('day1 in Month : ', day1 in Month)\n"
   ]
  },
  {
   "cell_type": "markdown",
   "metadata": {},
   "source": [
    "## 通过继承Enum创建枚举类"
   ]
  },
  {
   "cell_type": "code",
   "execution_count": 31,
   "metadata": {},
   "outputs": [
    {
     "name": "stdout",
     "output_type": "stream",
     "text": [
      "day2.name =  Sun\n",
      "day2.value =  0\n",
      "day2 == Weekday.Sun :  True\n",
      "day2 == Weekday.Sun :  True\n",
      "day2 == Weekday.Wed :  False\n",
      "day2 in Weekday : True\n"
     ]
    }
   ],
   "source": [
    "\n",
    "@unique  #装饰器可以帮助我们检查是否有重复值\n",
    "class Weekday(Enum):\n",
    "    Sun,Mon,Tue,Wed,Thu,Fri,Sat  = 0, 1, 2, 3, 4, 5, 6 # 也可以一个地赋值\n",
    "\n",
    "day2 = Weekday.Sun\n",
    "print('day2.name = ', day2.name)\n",
    "print('day2.value = ', day2.value)\n",
    "print('day2 == Weekday.Sun : ', day2 == Weekday['Sun'] )  #以字典的方式访问枚举类的值\n",
    "print('day2 == Weekday.Sun : ', day2 == Weekday(0) )      #用数字获取相应的枚举类的值\n",
    "print('day2 == Weekday.Wed : ', day2 == Weekday.Wed)      #以 dot 号访问枚举类的值\n",
    "print('day2 in Weekday :', day2 in Weekday)"
   ]
  },
  {
   "cell_type": "code",
   "execution_count": 33,
   "metadata": {},
   "outputs": [
    {
     "name": "stdout",
     "output_type": "stream",
     "text": [
      "duplicate values found in <enum 'Sex'>: Unknown -> Boy\n"
     ]
    }
   ],
   "source": [
    "# 下面故意在枚举类中使用重复的值, 看看会报什么错误信息\n",
    "try:\n",
    "    @unique\n",
    "    class Sex(Enum):\n",
    "        Boy = 0\n",
    "        Girl = 1\n",
    "        Unknown = 0\n",
    "except Exception as e:\n",
    "    print(e)\n",
    "#从报错信息中可以看到, 枚举值 Unknown 与 Boy 重复"
   ]
  }
 ],
 "metadata": {
  "kernelspec": {
   "display_name": "Python 3",
   "language": "python",
   "name": "python3"
  },
  "language_info": {
   "codemirror_mode": {
    "name": "ipython",
    "version": 3
   },
   "file_extension": ".py",
   "mimetype": "text/x-python",
   "name": "python",
   "nbconvert_exporter": "python",
   "pygments_lexer": "ipython3",
   "version": "3.7.0"
  }
 },
 "nbformat": 4,
 "nbformat_minor": 2
}
