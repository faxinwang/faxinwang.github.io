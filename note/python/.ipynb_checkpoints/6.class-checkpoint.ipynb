{
 "cells": [
  {
   "cell_type": "markdown",
   "metadata": {},
   "source": [
    "# class\n",
    "\n",
    "## define a class"
   ]
  },
  {
   "cell_type": "code",
   "execution_count": 1,
   "metadata": {},
   "outputs": [],
   "source": [
    "class Point(object):\n",
    "    '''a 2D point with attr: x, y'''\n",
    "    \n",
    "    def __init__(self, x , y):\n",
    "        self.x = x\n",
    "        self.y = y\n",
    "    def __str__(self):\n",
    "        return 'Point[ x = {0}, y = {1} ]'.format(self.x, self.y)\n",
    "\n",
    "class Rectangle(object):\n",
    "    '''Rectangle, represented by it left lower corner, width and height'''\n",
    "    \n",
    "    def __init__(self, point, width, height):\n",
    "        self.corner = point\n",
    "        self.width = width\n",
    "        self.height = height\n",
    "        \n",
    "    def __str__(self):\n",
    "        return 'Rectangle[ corner = {0}, width = {1}, height = {2} ]'.format(self.corner, self.width, self.height)"
   ]
  },
  {
   "cell_type": "markdown",
   "metadata": {},
   "source": [
    "## instantiate objects from classes"
   ]
  },
  {
   "cell_type": "code",
   "execution_count": 2,
   "metadata": {},
   "outputs": [
    {
     "name": "stdout",
     "output_type": "stream",
     "text": [
      "False\n",
      "False\n"
     ]
    }
   ],
   "source": [
    "# 创建一个对象, 只需要通过 类名()的方式, 括号中需要传入__init__函数中指定的参数\n",
    "p1 = Point(20, 30)\n",
    "p2 = Point(20, 30)\n",
    "print(p1 is p2) # p1 和 p2不是同一个对象\n",
    "print(p1 == p2)   ## 自定义的类, 使用==号运算时, 其行为默认与 is 类似, 就是判断两个变量是否引用了同一个对象"
   ]
  },
  {
   "cell_type": "markdown",
   "metadata": {},
   "source": [
    "## shallow copy (浅拷贝)\n",
    "\n",
    "![shallow copy](img/4_shallow_copy.png)"
   ]
  },
  {
   "cell_type": "code",
   "execution_count": 3,
   "metadata": {},
   "outputs": [
    {
     "name": "stdout",
     "output_type": "stream",
     "text": [
      "box1 :  Rectangle[ corner = Point[ x = 20, y = 30 ], width = 100, height = 200 ]\n",
      "box2 :  Rectangle[ corner = Point[ x = 20, y = 30 ], width = 100, height = 200 ]\n",
      "box1 is box2 :  False\n",
      "box1 == box2 :  False\n",
      "box1.corner is box2.corner :  True\n",
      "box1.corner == box2.corner :  True\n"
     ]
    }
   ],
   "source": [
    "import copy \n",
    "\n",
    "box1 = Rectangle(p1, 100, 200)\n",
    "box2 = copy.copy(box1)  \n",
    "print('box1 : ', box1)\n",
    "print('box2 : ', box2)\n",
    "# copy 函数复制并创建了一个新的对象, 两个对象有相同的值和引用, 是浅拷贝\n",
    "print('box1 is box2 : ', box1 is box2) \n",
    "print('box1 == box2 : ', box1 == box2 )\n",
    "\n",
    "# box1.corner 和box2.corner引用了同一个对象, 因此 is 和 == 都返回 True\n",
    "print('box1.corner is box2.corner : ', box1.corner is box2.corner)  \n",
    "print('box1.corner == box2.corner : ', box1.corner == box2.corner)"
   ]
  },
  {
   "cell_type": "markdown",
   "metadata": {},
   "source": [
    "## deep copy (深拷贝)"
   ]
  },
  {
   "cell_type": "code",
   "execution_count": 4,
   "metadata": {},
   "outputs": [
    {
     "name": "stdout",
     "output_type": "stream",
     "text": [
      "box1 :  Rectangle[ corner = Point[ x = 20, y = 30 ], width = 100, height = 200 ]\n",
      "box3 :  Rectangle[ corner = Point[ x = 20, y = 30 ], width = 100, height = 200 ]\n",
      "box1.corner is box3.corner :  False\n",
      "box1.corner == box3.corner :  False\n"
     ]
    }
   ],
   "source": [
    "box3 = copy.deepcopy(box1)\n",
    "\n",
    "# 由于box3是通过深拷贝创建的, box3中的变量和引用(以及引用的引用)都是原对象的副本, \n",
    "# 而不再引用同一个对象, 是深拷贝\n",
    "print('box1 : ', box1)\n",
    "print('box3 : ', box3)\n",
    "print('box1.corner is box3.corner : ', box1.corner is box3.corner)  \n",
    "print('box1.corner == box3.corner : ', box1.corner == box3.corner)"
   ]
  },
  {
   "cell_type": "markdown",
   "metadata": {},
   "source": [
    "## 运算符重载\n"
   ]
  },
  {
   "cell_type": "code",
   "execution_count": 5,
   "metadata": {},
   "outputs": [],
   "source": [
    "class Time():\n",
    "    '''\n",
    "        represent the time of a day\n",
    "        attr : hour, minute, second\n",
    "    '''\n",
    "    \n",
    "    def __init__(self, hour=0, minute=0, second=0):\n",
    "        self.hour = hour\n",
    "        self.minute = minute\n",
    "        self.second = second\n",
    "    def __str__(self):\n",
    "        return '%.2d : %.2d : %.2d'%(self.hour, self.minute, self.second)\n",
    "    \n",
    "    # 下面两个是类的方法, 调用的时候需要 用  类名.method() 的形式\n",
    "    def timeToInt(time):\n",
    "        return time.hour * 3600 + time.minute * 60 + time.second\n",
    "    \n",
    "    def intToTime(second):\n",
    "        time = Time()\n",
    "        minute ,time.second = divmod(second, 60)\n",
    "        time.hour, time.minute = divmod(minute, 60)\n",
    "        return time\n",
    "    \n",
    "    # 重载小于号 < 运算符\n",
    "    def __lt__(self, other):\n",
    "        return Time.timeToInt(self) < Time.timeToInt(other)\n",
    "    # 重载等于号 ==\n",
    "    def __eq__(self, other):\n",
    "        return Time.timeToInt(self) == Time.timeToInt(other)\n",
    "    \n",
    "    # 重载 + 运算符\n",
    "    # self + other 时调用该函数\n",
    "    def __add__(self, other):\n",
    "        ''' other can be a integer or another time '''\n",
    "        if isinstance(other, Time):\n",
    "            second = Time.timeToInt(self) + Time.timeToInt(other)\n",
    "            return Time.intToTime(second)\n",
    "        else:  # assume other is a integer\n",
    "            second = Time.timeToInt(self) + other\n",
    "            return Time.intToTime(second)\n",
    "        \n",
    "    # other + self 时调用该函数\n",
    "    def __radd__(self, other):\n",
    "        return self + other\n",
    "    \n",
    "    #使用关键字参数, 增加指定的时间单位\n",
    "    def increase(self, *, hour=0, minute=0, second=1):\n",
    "        second = hour * 3600 + minute * 60 + second + Time.timeToInt(self)\n",
    "        minute, self.second = divmod(second, 60)\n",
    "        self.hour, self.minute = divmod(minute, 60)\n",
    "        "
   ]
  },
  {
   "cell_type": "code",
   "execution_count": 6,
   "metadata": {},
   "outputs": [
    {
     "name": "stdout",
     "output_type": "stream",
     "text": [
      "t1 =  06 : 06 : 06\n",
      "t2 =  11 : 11 : 11\n",
      "t3 = t1 + t2 , t3 =  17 : 17 : 17\n"
     ]
    }
   ],
   "source": [
    "# test Time\n",
    "\n",
    "t1 = Time(6,6,6)\n",
    "t2 = Time(11, 11, 11)\n",
    "t3 = t1 + t2\n",
    "print('t1 = ', t1)\n",
    "print('t2 = ', t2)\n",
    "print('t3 = t1 + t2 , t3 = ', t1 + t2)"
   ]
  },
  {
   "cell_type": "code",
   "execution_count": 7,
   "metadata": {},
   "outputs": [
    {
     "name": "stdout",
     "output_type": "stream",
     "text": [
      "t4 =  18 : 58 : 37\n",
      "t4 + 100 =  19 : 00 : 17\n",
      "300 + t4 =  19 : 03 : 37\n",
      "0      00 : 00 : 00\n",
      "1      06 : 06 : 06\n",
      "2      11 : 11 : 11\n",
      "3      17 : 17 : 17\n",
      "4      18 : 58 : 37\n"
     ]
    }
   ],
   "source": [
    "t4 = copy.copy(t3)\n",
    "t4.increase(minute=100, second=80)\n",
    "print('t4 = ', t4)\n",
    "print('t4 + 100 = ', t4 + 100) \n",
    "# 如果没有定义 __radd__(), 这里将会报错, 因为编译器不知道如何将一个时间加到一个整数上\n",
    "print('300 + t4 = ', 300 + t4) \n",
    "\n",
    "# 由于Time定义了 < 号 运算, 因此可以对其进行排序\n",
    "t  = [t1, t2, t3, t4, Time() ]\n",
    "# 要想同时获得元素的下标和对应的元素, 可以使用 enumerate()来封装要遍历的集合\n",
    "for idx, tm in enumerate(sorted(t)) : print(idx , '    ', tm)"
   ]
  },
  {
   "cell_type": "code",
   "execution_count": 8,
   "metadata": {
    "scrolled": true
   },
   "outputs": [
    {
     "name": "stdout",
     "output_type": "stream",
     "text": [
      "t1 =  06 : 06 : 06\n",
      "t5 =  06 : 06 : 06\n",
      "t1 == t5: True\n",
      "t[0] == t[1] :  False\n"
     ]
    }
   ],
   "source": [
    "# 测试等于号\n",
    "# t5 = copy.deepcopy(t[1])\n",
    "t5 = Time(6,6,6)\n",
    "print('t1 = ', t1)\n",
    "print('t5 = ', t5)\n",
    "print('t1 == t5:', t1 == t5)\n",
    "print('t[0] == t[1] : ', t[0] == t[1] )"
   ]
  },
  {
   "cell_type": "markdown",
   "metadata": {},
   "source": [
    "\n",
    "## hasattr, getattr, setattr\n"
   ]
  },
  {
   "cell_type": "code",
   "execution_count": 9,
   "metadata": {},
   "outputs": [
    {
     "name": "stdout",
     "output_type": "stream",
     "text": [
      "{'hour': 18, 'minute': 58, 'second': 37}\n",
      "['__add__', '__class__', '__delattr__', '__dict__', '__dir__', '__doc__', '__eq__', '__format__', '__ge__', '__getattribute__', '__gt__', '__hash__', '__init__', '__init_subclass__', '__le__', '__lt__', '__module__', '__ne__', '__new__', '__radd__', '__reduce__', '__reduce_ex__', '__repr__', '__setattr__', '__sizeof__', '__slotnames__', '__str__', '__subclasshook__', '__weakref__', 'hour', 'increase', 'intToTime', 'minute', 'second', 'timeToInt']\n"
     ]
    }
   ],
   "source": [
    "# 先了解两个 built-in 函数, 使用这两个函数可以对一个陌生的类或对象进行分析\n",
    "# vars(obj) 返回一个字典, 该字典以键值对的形式包含了obj对象所定义的类中所有的public属性和其对应的值\n",
    "print(vars(t4))\n",
    "# dir(obj) 返回一个字符串列表,列出了该对象所有的属性和函数,包括以__开头和结尾的\n",
    "print(dir(t4)) "
   ]
  },
  {
   "cell_type": "code",
   "execution_count": 10,
   "metadata": {},
   "outputs": [
    {
     "name": "stdout",
     "output_type": "stream",
     "text": [
      "t4 =  18 : 58 : 37\n",
      "58\n",
      "t4 =  10 : 58 : 37\n",
      "t4 + t4 =  21 : 57 : 14\n"
     ]
    }
   ],
   "source": [
    "# 当我们不知道一个对象是否有某个属性或者方法时, 使用 hasattr()会避免报错\n",
    "print('t4 = ', t4)\n",
    "if hasattr(t4, 'minute'):\n",
    "    print(getattr(t4, 'minute'))\n",
    "if hasattr(t4, 'hour'):\n",
    "    setattr(t4, 'hour', 10)\n",
    "    \n",
    "print('t4 = ', t4)\n",
    "\n",
    "if hasattr(t4, '__add__'): # 如果定义了 __add__()函数, 则可以使用 + 运算符\n",
    "    print('t4 + t4 = ', t4 + t4)\n",
    "\n",
    "# 恰当使用 hasattr() 的例子\n",
    "def readFile(reader):\n",
    "    file = 'config.xml'\n",
    "    if hasattr(reader, 'read'):\n",
    "        return reader.read(file) # 当不确定reader是否有'read'方法的时候, 这样写可以避免出错"
   ]
  },
  {
   "cell_type": "markdown",
   "metadata": {},
   "source": [
    "## 访问控制\n",
    "* 以双下划线 __ 开头的变量,在外部将无法访问到(通过特殊手段还是可以做到的)\n",
    "* 以单下划线 _ 开头的变量, 表示不希望从外部进行访问,但仍然能够从外部访问到\n",
    "* 以双下划线 __ 开头,且以双下划线 __ 结尾的变量或函数,用于实现特定的功能,不应该从外部直接访问,虽然可以访问到\n"
   ]
  },
  {
   "cell_type": "code",
   "execution_count": 11,
   "metadata": {},
   "outputs": [
    {
     "name": "stdout",
     "output_type": "stream",
     "text": [
      "juliya\n",
      "90\n",
      "other\n",
      "20\n",
      "'Student' object has no attribute '__age'\n"
     ]
    }
   ],
   "source": [
    "class Student():\n",
    "    def __init__(self, name, score, age):\n",
    "        self.name = name\n",
    "        self._score = score\n",
    "        self.__age = age\n",
    "        self.__other__ = 'other'\n",
    "        \n",
    "    def get_age(self):\n",
    "        return self.__age\n",
    "    \n",
    "s = Student('juliya', 90, 20)\n",
    "print(s.name)\n",
    "print(s._score)\n",
    "print(s.__other__)\n",
    "print(s.get_age())\n",
    "try:\n",
    "    print(s.__age)   # 访问私有属性, 这里将报错\n",
    "except Exception as e:\n",
    "    print(e)"
   ]
  },
  {
   "cell_type": "markdown",
   "metadata": {},
   "source": [
    "### 类属性和实例属性\n",
    "\n",
    "* 类属性定义在类内部, 而不在函数体内部\n",
    "* 类的共有属性可以被该类的所有实例对象访问到, 而私有属性无法被实例对象访问\n",
    "* 如果实例对象绑定了与类属性同名的属性, 则实例属性优先级高于类属性\n",
    "* 当hasattr()检测的是实例对象, 询问的是某个类属性, 并且实例对象没有该属性是, 也会返回True"
   ]
  },
  {
   "cell_type": "code",
   "execution_count": 12,
   "metadata": {},
   "outputs": [
    {
     "name": "stdout",
     "output_type": "stream",
     "text": [
      "Student.name =  student\n",
      "s.name =  student\n",
      "s.__name__ =  student\n",
      "'Student' object has no attribute '__name'\n",
      "s.name =  jack\n",
      "s.name =  student\n"
     ]
    }
   ],
   "source": [
    "class Student():\n",
    "    name = 'student'\n",
    "    __name__ = 'student'\n",
    "    __name = 'student'\n",
    "    def __init__(self):\n",
    "        pass\n",
    "\n",
    "s = Student()\n",
    "print('Student.name = ', Student.name)\n",
    "print('s.name = ',s.name)\n",
    "print('s.__name__ = ', s.__name__)\n",
    "try:\n",
    "    print('s.__name = ',s.__name)\n",
    "except Exception as e:\n",
    "    print(e)\n",
    "    \n",
    "s.name = 'jack' # 给实例对象绑定同名属性, 将覆盖同名的类属性\n",
    "print('s.name = ',s.name)\n",
    "\n",
    "if hasattr(s, 'name') : \n",
    "    del s.name  # 删除实例对象的属性\n",
    "    \n",
    "if hasattr(s, 'name'):\n",
    "    print('s.name = ', s.name)          # 将输出类的 name 属性的值 'student'\n",
    "\n",
    "if hasattr(Student, 'name') :\n",
    "    del Student.name  # 删除类的属性\n",
    "    \n",
    "if hasattr(s, 'name') :  # False\n",
    "    print(s.name) "
   ]
  }
 ],
 "metadata": {
  "kernelspec": {
   "display_name": "Python 3",
   "language": "python",
   "name": "python3"
  },
  "language_info": {
   "codemirror_mode": {
    "name": "ipython",
    "version": 3
   },
   "file_extension": ".py",
   "mimetype": "text/x-python",
   "name": "python",
   "nbconvert_exporter": "python",
   "pygments_lexer": "ipython3",
   "version": "3.7.0"
  }
 },
 "nbformat": 4,
 "nbformat_minor": 2
}
