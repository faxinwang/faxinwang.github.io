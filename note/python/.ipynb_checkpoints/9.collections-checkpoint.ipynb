{
 "cells": [
  {
   "cell_type": "markdown",
   "metadata": {},
   "source": [
    "# collections\n",
    "\n",
    "## set\n",
    "\n",
    "set 表示一个集合, 支持很多集合运算"
   ]
  },
  {
   "cell_type": "code",
   "execution_count": 1,
   "metadata": {},
   "outputs": [
    {
     "name": "stdout",
     "output_type": "stream",
     "text": [
      "s1 =  {1, 3, 4, 5}\n",
      "s2 =  {1, 2, 3, 5, 6, 7, 8}\n",
      "s1 - s2 =  {4}\n",
      "s2 - s1 =  {8, 2, 6, 7}\n",
      "s2 - s1 <= s1 :  False\n",
      "s2 - s1 <= s2 :  True\n",
      "s1 <= s2 :  False\n"
     ]
    }
   ],
   "source": [
    "t1 = [1, 1, 3, 4, 5, 4, 5]\n",
    "t2 = [8, 7, 6, 5, 3, 2, 1]\n",
    "s1, s2 = set(t1), set(t2)\n",
    "print('s1 = ', s1 )\n",
    "print('s2 = ', s2 )\n",
    "print('s1 - s2 = ' , s1 - s2)\n",
    "print('s2 - s1 = ' , s2 - s1)\n",
    "print('s2 - s1 <= s1 : ', s2 - s1 <= s1) #  判断s2 与 s1的差集是否是 s1的子集\n",
    "print('s2 - s1 <= s2 : ', s2 - s1 <= s2) #  判断s2 与 s1的差集是否是 s2的子集\n",
    "print('s1 <= s2 : ', s1 <= s2)           #  判断s1 是否是 s2 的子集"
   ]
  },
  {
   "cell_type": "code",
   "execution_count": 2,
   "metadata": {},
   "outputs": [
    {
     "name": "stdout",
     "output_type": "stream",
     "text": [
      "s3 =  {1, 3, 5}\n",
      "s4 =  {1, 2, 3, 4, 5, 6, 7, 8}\n"
     ]
    }
   ],
   "source": [
    "s3 = s1.intersection(s2)  # 计算 s1 与 s2 的交集\n",
    "print('s3 = ', s3)\n",
    "s4 = s1.union(s2)\n",
    "print('s4 = ', s4)       # 计算 s1 与 s2 的并集"
   ]
  },
  {
   "cell_type": "markdown",
   "metadata": {},
   "source": [
    "## Counter\n",
    "\n",
    "Counter 是一个计数器, 提供了一些与计数相关的功能 <br>\n",
    "Counter 是一个特殊的字典, 可用任意可以迭代的序列进行初始化, 键为对应的序列元素, 值为整数, 表示各元素出现的次数 <br>\n",
    "需要指出的是, 用于初始化Counter的序列中的元素必须是可哈希的"
   ]
  },
  {
   "cell_type": "code",
   "execution_count": 15,
   "metadata": {},
   "outputs": [
    {
     "name": "stdout",
     "output_type": "stream",
     "text": [
      "Counter({' ': 8, 'e': 7, 'o': 3, 'a': 3, 's': 3, 't': 3, 'n': 2, 'h': 2, 'r': 2, 'c': 2, 'A': 1, 'w': 1, 'm': 1, \"'\": 1, 'i': 1, 'd': 1, 'p': 1, 'f': 1})\n",
      "0\n",
      "  8\n",
      "e 7\n",
      "o 3\n",
      "a 3\n",
      "s 3\n",
      "t 3\n",
      "n 2\n",
      "h 2\n",
      "r 2\n",
      "c 2\n",
      "A 1\n",
      "w 1\n",
      "m 1\n",
      "' 1\n",
      "i 1\n",
      "d 1\n",
      "p 1\n",
      "f 1\n"
     ]
    }
   ],
   "source": [
    "from collections import Counter\n",
    "\n",
    "count = Counter(\"A woman's heart is the deep ocean of secret\")\n",
    "print(count) # count 统计了各元素出现的次数, 并对元素按照次数从高到低进行了排序\n",
    "print(count['B']) # 如果访问的元素没有出现过, Counter将返回0, 而不会报错\n",
    "\n",
    "for key, freq in count.most_common():  # most_common返回一个由key-value pairs组成的list, 并且是排好序的\n",
    "    print(key, freq)"
   ]
  },
  {
   "cell_type": "markdown",
   "metadata": {},
   "source": [
    "## defaultdict\n",
    "\n",
    "defaultdict 与 dict 非常相似, 只不过当你访问一个不存在的元素时, 它不会报错, 而是生成一个默认值作为该键的值<br>\n",
    "创建 defaultdict 时需要提供一个类名用于创建相应的默认值\n"
   ]
  },
  {
   "cell_type": "code",
   "execution_count": 19,
   "metadata": {},
   "outputs": [
    {
     "name": "stdout",
     "output_type": "stream",
     "text": [
      "8  :  [' ']\n",
      "7  :  ['e']\n",
      "3  :  ['o', 'a', 's', 't']\n",
      "2  :  ['n', 'h', 'r', 'c']\n",
      "1  :  ['A', 'w', 'm', \"'\", 'i', 'd', 'p', 'f']\n"
     ]
    }
   ],
   "source": [
    "from collections import defaultdict\n",
    "\n",
    "# 当要创建一个值为list的字典时, 使用defaultdict会很方便\n",
    "# 例如这里要统计上面那个Counter中出现相同次数的字符有哪些, 可以这样做\n",
    "\n",
    "dd = defaultdict(list)   # 注意这里的list是类名, 不是函数, 也不是对象\n",
    "\n",
    "for key, freq in count.most_common():\n",
    "    dd[freq].append(key)   # 这里就不用判断访问的键有没有出现过\n",
    "    \n",
    "for key, val in dd.items():\n",
    "    print(key,' : ', val)"
   ]
  },
  {
   "cell_type": "markdown",
   "metadata": {},
   "source": [
    "## namedtuple\n",
    "\n",
    "当我们定义像java bean( 类中只有一些属性, getter, setter, 以及toString() 等函数 )那样的简单类时, python提供了更简单的工具<br>\n",
    "来帮我们生成一种数据类型, 它就是namedtuple\n"
   ]
  },
  {
   "cell_type": "code",
   "execution_count": 39,
   "metadata": {},
   "outputs": [
    {
     "name": "stdout",
     "output_type": "stream",
     "text": [
      "<class '__main__.Person'>\n",
      "<class 'list'>\n",
      "<class 'dict'>\n",
      "<class 'int'>\n"
     ]
    }
   ],
   "source": [
    "from collections import namedtuple\n",
    "\n",
    "Person = namedtuple('Person', ['name', 'age', 'sex' ])\n",
    "# 第一个参数 'Person' 表示要创建的类型的名字,\n",
    "# 第二个参数是一个list, 表示要创建的类型具有的属性, list中的元素必须是字符串, 且能表示一个合法的标识符\n",
    "\n",
    "print(Person)\n",
    "print(list)\n",
    "print(dict)\n",
    "print(int)\n",
    "\n",
    "# 可以看到, Person和list, dict 等一样都是class, 只不过 Person 是定义在__main__这个作用域里面而已"
   ]
  },
  {
   "cell_type": "code",
   "execution_count": 40,
   "metadata": {},
   "outputs": [
    {
     "name": "stdout",
     "output_type": "stream",
     "text": [
      "Person(name='jack', age=20, sex='male')\n",
      "jack 20 male\n",
      "jack 20 male\n",
      "Person(name='bob', age=21, sex='male')\n"
     ]
    }
   ],
   "source": [
    "ps = Person('jack', 20, 'male')  # 使用 类型名() 的语法格式创建对象\n",
    "print( ps )                                   # namedtuple自动帮我们写好了__str__ 函数\n",
    "\n",
    "print(ps.name, ps[1], ps.sex)   #可以通过下标和小数点的方式访问对象的属性\n",
    "name, age, sex = ps                # 还能像tuple一样自动进行 scatter 操作\n",
    "print(name, age, sex) \n",
    "\n",
    "ps2 = Person(name='bob', age=21, sex='male')  # 还可以使用关键字参数创建 Person对象\n",
    "print(ps2)"
   ]
  },
  {
   "cell_type": "code",
   "execution_count": 42,
   "metadata": {},
   "outputs": [],
   "source": [
    "# 当我们需要为该类增加新功能时, 可以创建一个新类继承自用 namedtuple创建的类\n",
    "class Student(Person):\n",
    "    def __init__(self, *args, **kw):\n",
    "        pass\n",
    "    "
   ]
  }
 ],
 "metadata": {
  "kernelspec": {
   "display_name": "Python 3",
   "language": "python",
   "name": "python3"
  },
  "language_info": {
   "codemirror_mode": {
    "name": "ipython",
    "version": 3
   },
   "file_extension": ".py",
   "mimetype": "text/x-python",
   "name": "python",
   "nbconvert_exporter": "python",
   "pygments_lexer": "ipython3",
   "version": "3.7.0"
  }
 },
 "nbformat": 4,
 "nbformat_minor": 2
}
