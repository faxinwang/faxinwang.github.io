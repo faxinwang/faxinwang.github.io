{
 "cells": [
  {
   "cell_type": "markdown",
   "metadata": {},
   "source": [
    "# some basics principles\n",
    "\n",
    "## `in`\n",
    "\n",
    "1. 查询一个元素是否在一个集合中\n",
    "2. 与for结合用于遍历一个集合"
   ]
  },
  {
   "cell_type": "code",
   "execution_count": 10,
   "metadata": {},
   "outputs": [
    {
     "name": "stdout",
     "output_type": "stream",
     "text": [
      "'abc' in t :  True\n",
      "23 in t :  True\n",
      "123 in t :  False\n",
      "\n",
      "'one' in d :  True\n",
      "1 in d :  False\n",
      "\n",
      "0 1 2 3 4 "
     ]
    }
   ],
   "source": [
    "t = ['abc', 'def', 23]\n",
    "print(\"'abc' in t : \", 'abc' in t)\n",
    "print('23 in t : ', 23 in t)\n",
    "print('123 in t : ', 123 in t)\n",
    "\n",
    "print()\n",
    "d = {'one' : 1, 'two': 2, 'three':3}\n",
    "print(\"'one' in d : \", 'one' in d)\n",
    "print('1 in d : ', 1 in d)\n",
    "\n",
    "print()\n",
    "for i in range(5): print(i, end = ' ')\n"
   ]
  },
  {
   "cell_type": "markdown",
   "metadata": {},
   "source": [
    "##  `is`\n",
    "\n",
    "判断左右操作符是否是同一个对象(是否指向同一块内存)"
   ]
  },
  {
   "cell_type": "code",
   "execution_count": 1,
   "metadata": {},
   "outputs": [
    {
     "name": "stdout",
     "output_type": "stream",
     "text": [
      "---------- int ----------\n",
      "a =  256 , b =  256 , a is b :  True\n",
      "a =  257 , b =  257 , a is b :  False\n",
      "a =  -5 , b =  -5 , a is b :  True\n",
      "a =  -6 , b =  -6 , a is b :  False\n"
     ]
    }
   ],
   "source": [
    "# 对于整数, python采用了类似java中常量池的方式\n",
    "# 当两个变量的值处于-5到256之间时, 两个变量实际上指向了同一块内存\n",
    "line = '-' * 10\n",
    "print(line, 'int', line)\n",
    "a = 256\n",
    "b = 256\n",
    "print('a = ', a, ', b = ', b, ', a is b : ',  a is b)\n",
    "\n",
    "a = 257\n",
    "b = 257\n",
    "print('a = ', a, ', b = ', b, ', a is b : ',  a is b)\n",
    "\n",
    "a = -5\n",
    "b = -5\n",
    "print('a = ', a, ', b = ', b, ', a is b : ',  a is b)\n",
    "\n",
    "a = -6\n",
    "b = -6\n",
    "print('a = ', a, ', b = ', b, ', a is b : ',  a is b)"
   ]
  },
  {
   "cell_type": "code",
   "execution_count": 2,
   "metadata": {},
   "outputs": [
    {
     "name": "stdout",
     "output_type": "stream",
     "text": [
      "---------- str ----------\n",
      "a =  abc , b =  abc , a is b :  True\n",
      "a =  123 , b =  123 , a is b :  True\n"
     ]
    }
   ],
   "source": [
    "# 对于字符串, 由于字符串是不可变对象, 当两个字符串变量的值相等时, 他们实际上是指向了\n",
    "# 内存中的同一个对象\n",
    "print(line, 'str', line)\n",
    "a = 'abc'\n",
    "b = 'abc'\n",
    "print('a = ', a, ', b = ', b, ', a is b : ',  a is b)\n",
    "\n",
    "a = '123'\n",
    "b = str(a)\n",
    "print('a = ', a, ', b = ', b, ', a is b : ',  a is b)"
   ]
  },
  {
   "cell_type": "code",
   "execution_count": 3,
   "metadata": {},
   "outputs": [
    {
     "name": "stdout",
     "output_type": "stream",
     "text": [
      "---------- list ----------\n",
      "a =  [1, 2, 3] , b =  [1, 2, 3] , a is b :  False\n",
      "a =  [4, 5, 6] , b =  [4, 5, 6] , a is b :  False\n"
     ]
    }
   ],
   "source": [
    "# 对于list, 由于list是可变对象, 不管用中括号[]还是list()函数创建list, 都会创建一个新的list对象\n",
    "print(line, 'list', line)\n",
    "a = [1,2,3]\n",
    "b = [1,2,3]\n",
    "print('a = ', a, ', b = ', b, ', a is b : ',  a is b)\n",
    "\n",
    "a = [4,5,6]\n",
    "b = list(a)\n",
    "print('a = ', a, ', b = ', b, ', a is b : ',  a is b)"
   ]
  },
  {
   "cell_type": "code",
   "execution_count": 6,
   "metadata": {},
   "outputs": [
    {
     "name": "stdout",
     "output_type": "stream",
     "text": [
      "---------- dict ----------\n",
      "a =  {'one': 1, 'two': 2, 'three': 3}\n",
      "b =  {'one': 1, 'two': 2, 'three': 3}\n",
      "a is b :  False\n",
      "a =  {'a': 1, 'b': 2, 'c': 3}\n",
      "b =  {'a': 1, 'b': 2, 'c': 3}\n",
      "a is b :  False\n"
     ]
    }
   ],
   "source": [
    "# 对于dict, 由于dict是可变对象, 因此使用花括号或者dict()函数创建dict时, 都会创建一个新的dict对象\n",
    "print(line, 'dict', line)\n",
    "a = {'one' : 1, 'two' : 2, 'three' : 3}\n",
    "b = {'one' : 1, 'two' : 2, 'three' : 3}\n",
    "print('a = ', a)\n",
    "print('b = ', b)\n",
    "print('a is b : ', a is b)\n",
    "\n",
    "a = {'a' : 1, 'b' : 2, 'c' : 3}\n",
    "b = dict(a)\n",
    "# print('a = ', a, ', b = ', b, ', a is b : ',  a is b)\n",
    "print('a = ', a)\n",
    "print('b = ', b)\n",
    "print('a is b : ', a is b)"
   ]
  },
  {
   "cell_type": "code",
   "execution_count": 8,
   "metadata": {},
   "outputs": [
    {
     "name": "stdout",
     "output_type": "stream",
     "text": [
      "---------- tuple ----------\n",
      "a =  (1, 2, 3) , b =  (1, 2, 3) , a is b :  False\n",
      "a =  (4, 5, 6) , b =  (4, 5, 6) , a is b :  True\n"
     ]
    }
   ],
   "source": [
    "# 对于tuple, 由于tuple是不可变对象, 当用小括号()(小括号不是必须的)创建tuple时, 会创建一个新的tuple对象\n",
    "# 当用tuple()函数创建一个tuple时, 如果传入另一个tuple, 则实际上并没有创建一个新的tuple对象, 只是返回了一个\n",
    "# 指向参数的变量\n",
    "print(line, 'tuple', line)\n",
    "a = (1,2,3)\n",
    "b = (1,2,3)\n",
    "print('a = ', a, ', b = ', b, ', a is b : ',  a is b)\n",
    "\n",
    "a = 4,5,6    # 创建一个tuple时, 小括号不是必须的\n",
    "b = tuple(a)\n",
    "print('a = ', a, ', b = ', b, ', a is b : ',  a is b)"
   ]
  }
 ],
 "metadata": {
  "celltoolbar": "Edit Metadata",
  "kernelspec": {
   "display_name": "Python 3",
   "language": "python",
   "name": "python3"
  },
  "language_info": {
   "codemirror_mode": {
    "name": "ipython",
    "version": 3
   },
   "file_extension": ".py",
   "mimetype": "text/x-python",
   "name": "python",
   "nbconvert_exporter": "python",
   "pygments_lexer": "ipython3",
   "version": "3.7.0"
  }
 },
 "nbformat": 4,
 "nbformat_minor": 2
}
