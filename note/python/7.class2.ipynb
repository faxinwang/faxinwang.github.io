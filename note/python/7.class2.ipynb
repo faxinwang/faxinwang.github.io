{
 "cells": [
  {
   "cell_type": "markdown",
   "metadata": {},
   "source": [
    "# about class\n",
    "\n",
    "## __ __slots__ __\n",
    "\n",
    "* `__slots__` 用于限制实例对象可以添加的属性\n",
    "* 当子类没有定义`__slots__`时, 父类的`__slots__`对子类无约束, 当子类也定义了`__slots__`时, 子类的`__slots__`会继承父类的`__slots__`\n"
   ]
  },
  {
   "cell_type": "code",
   "execution_count": 1,
   "metadata": {},
   "outputs": [
    {
     "name": "stdout",
     "output_type": "stream",
     "text": [
      "Student(name=jack, age=20)\n",
      "'Student' object has no attribute 'sex'\n"
     ]
    }
   ],
   "source": [
    "class Student():\n",
    "    __slots__ = ('name', 'age')\n",
    "    def __init__(self, name, age):\n",
    "        self.name = name\n",
    "        self.age = age\n",
    "    def __str__(self):\n",
    "        return 'Student(name={0}, age={1})'.format(self.name, self.age);\n",
    "\n",
    "s = Student('jack', 20)\n",
    "print(s)\n",
    "try:\n",
    "    s.sex = 'boy' ## 由于__slots__的约束, Student对象不能有除name, age之外的属性, \n",
    "except Exception as e:\n",
    "    print(e)"
   ]
  },
  {
   "cell_type": "code",
   "execution_count": 2,
   "metadata": {},
   "outputs": [
    {
     "name": "stdout",
     "output_type": "stream",
     "text": [
      "Student(name=bob, age=22)\n",
      "s2.name =  bob\n",
      "s2.age =  22\n",
      "s2.sex =  boy\n"
     ]
    }
   ],
   "source": [
    "# Student2继承自 Student 没有定义__slots__, 因此可以动态绑定任意属性\n",
    "class Student2(Student): \n",
    "    def __init__(self,name, age):\n",
    "        self.name = name\n",
    "        self.age = age\n",
    "\n",
    "s2 = Student2('bob', 22)\n",
    "print(s2)\n",
    "s2.sex = 'boy'\n",
    "print('s2.name = ', s2.name)\n",
    "print('s2.age = ', s2.age)\n",
    "print('s2.sex = ', s2.sex)"
   ]
  },
  {
   "cell_type": "code",
   "execution_count": 3,
   "metadata": {},
   "outputs": [
    {
     "name": "stdout",
     "output_type": "stream",
     "text": [
      "Student(name=jack, age=23)\n",
      "'Student3' object has no attribute 'sex'\n"
     ]
    }
   ],
   "source": [
    "# Student3继承自Student, 且定义了__slots__, 因此将继承父类的__slots__\n",
    "class Student3(Student):\n",
    "    __slots__ = ()\n",
    "    def __init__(self, name, age):\n",
    "        self.name = name\n",
    "        self.age = age\n",
    "s3 = Student3('jack', 23)\n",
    "print(s3)\n",
    "try:\n",
    "    s3.sex = 'boy'  # Student3继承了Student的__slots__, 因此也只能定义 name 和 age属性\n",
    "    print('s2.name = ', s2.name)\n",
    "    print('s2.age = ', s2.age)\n",
    "    print('s2.sex = ', s2.sex)\n",
    "except Exception as e:\n",
    "    print(e)"
   ]
  },
  {
   "cell_type": "markdown",
   "metadata": {},
   "source": [
    "## 给类和对象绑定方法\n",
    "\n",
    "* 给对象绑定一个方法时, 其他对象不会自动拥有该方法\n",
    "* 给类绑定一个方法时, 该类的所有对象将自动拥有该方法\n"
   ]
  },
  {
   "cell_type": "code",
   "execution_count": 5,
   "metadata": {},
   "outputs": [
    {
     "name": "stdout",
     "output_type": "stream",
     "text": [
      "s2.sex =  girl\n",
      "s2.sex =  girl\n",
      "'Student2' object has no attribute 'set_sex'\n"
     ]
    }
   ],
   "source": [
    "# 给上述 s2 对象绑定 set_sex() 方法\n",
    "from types import MethodType\n",
    "\n",
    "def set_sex(self, sex):\n",
    "    self.sex = sex\n",
    "    \n",
    "print('s2.sex = ', s2.sex)\n",
    "s2.set_sex = MethodType(set_sex, s2)\n",
    "s2.set_sex('girl')\n",
    "print('s2.sex = ', s2.sex)\n",
    "\n",
    "st1 = Student2('zhangsan', 18)\n",
    "try:\n",
    "    st1.set_sex('boy')  # set_sex() 只绑定到了s2对象上, 其他对象没有这个方法\n",
    "except Exception as e:\n",
    "    print(e)"
   ]
  },
  {
   "cell_type": "code",
   "execution_count": 9,
   "metadata": {},
   "outputs": [
    {
     "name": "stdout",
     "output_type": "stream",
     "text": [
      "'Student2' object has no attribute 'sex'\n",
      "st2.sex =  boy\n"
     ]
    }
   ],
   "source": [
    "# 给 Student2 类绑定 set_sex()方法\n",
    "Student2.set_sex = set_sex  # 注意不要加括号 (), 否则是在调用函数\n",
    "\n",
    "st2 = Student2('lisi', 20)\n",
    "try:\n",
    "    print('st2.sex = ', st2.sex)\n",
    "except Exception as e:\n",
    "    print(e)\n",
    "st2.set_sex('boy')\n",
    "print('st2.sex = ', st2.sex)"
   ]
  },
  {
   "cell_type": "markdown",
   "metadata": {},
   "source": [
    "## @property\n",
    "\n",
    "@property 装饰器可以使得方法可以像属性一样使用, 这点跟C#中的属性如出一辙"
   ]
  },
  {
   "cell_type": "code",
   "execution_count": 11,
   "metadata": {},
   "outputs": [],
   "source": [
    "class Student4():\n",
    "    def __init__(self, name, birth):\n",
    "        self.name = name\n",
    "        self.birth = birth\n",
    "        self.__score = 0\n",
    "    \n",
    "    # score 装饰成为可读可写属性\n",
    "    @property\n",
    "    def score(self):\n",
    "        return self.__score\n",
    "    @score.setter\n",
    "    def score(self, value):\n",
    "        if not isinstance(value, int):\n",
    "            raise ValueError('score must be integer')\n",
    "        if not 0 <= value <= 100 :\n",
    "            raise ValueError('score must between 0 and 100')\n",
    "        self.__score = value\n",
    "    \n",
    "    # 定义 age 属性, 该属性为只读属性\n",
    "    @property\n",
    "    def age(self):\n",
    "        return 2018 - self.birth\n"
   ]
  },
  {
   "cell_type": "code",
   "execution_count": 14,
   "metadata": {},
   "outputs": [
    {
     "name": "stdout",
     "output_type": "stream",
     "text": [
      "jack.birth =  2000\n",
      "jack.age =  18\n",
      "jack.age =  16\n",
      "jack.score =  0\n",
      "jack.score =  50\n",
      "score must between 0 and 100\n",
      "jack.score =  50\n"
     ]
    }
   ],
   "source": [
    "jack = Student4('jack', 2000)\n",
    "print('jack.birth = ', jack.birth)\n",
    "print('jack.age = ', jack.age)\n",
    "jack.birth = 2002\n",
    "print('jack.age = ', jack.age)      # 通过属性读取 age\n",
    "print('jack.score = ', jack.score)  # 通过属性读取 score\n",
    "jack.score = 50                     # 通过属性修改 score\n",
    "print('jack.score = ', jack.score)\n",
    "try:\n",
    "    jack.score = 150\n",
    "except Exception as e:\n",
    "    print(e)\n",
    "print('jack.score = ', jack.score)"
   ]
  },
  {
   "cell_type": "markdown",
   "metadata": {},
   "source": [
    "## 多重继承\n",
    "\n",
    "python支持多重继承, 但多重继承容易使继承体系很快变得十分复杂, 采用MixIn的设计原则, 可以避免这个问题. 主要思路就是每个类只继承自一条主干, 而通过继承自其它的MixIn类来增加功能和实现代码复用. MixIn类类似与java中的interface,java中使用interface来设计接口, python中使用MixIn这种类来设计接口."
   ]
  },
  {
   "cell_type": "code",
   "execution_count": 20,
   "metadata": {},
   "outputs": [
    {
     "name": "stdout",
     "output_type": "stream",
     "text": [
      "hasky is running...\n",
      "bat man is flying...\n"
     ]
    }
   ],
   "source": [
    "class RunnableMixIn():\n",
    "    def run(self):\n",
    "        print(self.name, 'is running...')\n",
    "        \n",
    "class FlyableMixIn():\n",
    "    def fly(self):\n",
    "        print(self.name, 'is flying...')\n",
    "\n",
    "\n",
    "class Animal():\n",
    "    def __init__(self, name):\n",
    "        self.name = name\n",
    "\n",
    "class Bird(Animal):\n",
    "    pass\n",
    "class Mammal(Animal):\n",
    "    pass\n",
    "\n",
    "class Dog(Mammal, RunnableMixIn):\n",
    "    pass\n",
    "\n",
    "class Bat(Mammal, FlyableMixIn):\n",
    "    pass\n",
    "\n",
    "dog = Dog('hasky')   # Dog类继承了 RunnableMixIn, 所以有run()方法\n",
    "dog.run()\n",
    "bat = Bat('bat man') # Bat类继承了 FlyableMixIn, 所以有fly()方法\n",
    "bat.fly()"
   ]
  }
 ],
 "metadata": {
  "kernelspec": {
   "display_name": "Python 3",
   "language": "python",
   "name": "python3"
  },
  "language_info": {
   "codemirror_mode": {
    "name": "ipython",
    "version": 3
   },
   "file_extension": ".py",
   "mimetype": "text/x-python",
   "name": "python",
   "nbconvert_exporter": "python",
   "pygments_lexer": "ipython3",
   "version": "3.7.0"
  }
 },
 "nbformat": 4,
 "nbformat_minor": 2
}
