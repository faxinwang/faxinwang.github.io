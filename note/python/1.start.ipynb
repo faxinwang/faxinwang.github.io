{
 "cells": [
  {
   "cell_type": "markdown",
   "metadata": {},
   "source": [
    "# 变量, 表达式, 语句\n",
    "\n",
    "## 变量\n",
    " **变量**是构成表达式的最基本单位, 因为python是动态语言, 变量没有固定的类型\n"
   ]
  },
  {
   "cell_type": "code",
   "execution_count": 1,
   "metadata": {},
   "outputs": [
    {
     "name": "stdout",
     "output_type": "stream",
     "text": [
      "this is a message\n",
      "<class 'str'>\n",
      "3.1415926\n",
      "<class 'float'>\n",
      "<class 'int'> 20\n"
     ]
    }
   ],
   "source": [
    "# 给变量赋值\n",
    "msg = 'this is a message'\n",
    "print(msg)\n",
    "#使用内置函数type()查看变量的类型\n",
    "print( type(msg) )\n",
    "\n",
    "pi = 3.1415926\n",
    "print(pi)\n",
    "print(type(pi))\n",
    "\n",
    "n = 20\n",
    "print(type(n), n)"
   ]
  },
  {
   "cell_type": "markdown",
   "metadata": {},
   "source": [
    "变量名不能与关键字相同, python的关键字如下:\n",
    "![keywords](img/1_keywords.png)\n",
    "\n",
    "变量名是对值的引用, 每个变量名在被赋值之后, 都指向了内存中的一个对象\n",
    "![vairable_is_ptr](img/2_variable_is_ptr.png)\n",
    "\n",
    "\n",
    "## 表达式\n",
    "\n",
    "python的表达式非常简洁,看如下例子"
   ]
  },
  {
   "cell_type": "code",
   "execution_count": 10,
   "metadata": {},
   "outputs": [
    {
     "name": "stdout",
     "output_type": "stream",
     "text": [
      "3 + 5 =  8\n",
      "3 - 5 =  -2\n",
      "3 ^ 5 =  243\n",
      "5 / 3 =  1.6666666666666667\n",
      "5 // 3 =  1\n",
      "3 * 5 =  15\n",
      "5 % 3 =  2\n"
     ]
    }
   ],
   "source": [
    "#数学运算\n",
    "print('3 + 5 = ', 3 + 5)\n",
    "print('3 - 5 = ', 3 - 5 )\n",
    "print('3 ^ 5 = ', 3 ** 5)  # 3的5次方\n",
    "print('5 / 3 = ', 5 / 3)    # 3除以5(非整除)\n",
    "print('5 // 3 = ', 5 // 3)  # 3除以5(整除))\n",
    "print('3 * 5 = ', 3 * 5)\n",
    "print('5 % 3 = ', 5 % 3) # 取余运算"
   ]
  },
  {
   "cell_type": "code",
   "execution_count": 3,
   "metadata": {},
   "outputs": [
    {
     "name": "stdout",
     "output_type": "stream",
     "text": [
      "s1 + s2 =  hello world\n",
      "s1 =  hello \n",
      "s2 =  world\n",
      "python is  soooooooooo cool\n"
     ]
    }
   ],
   "source": [
    "# 字符串运算\n",
    "# 用+号连接两个字符串, 返回一个新的字符串\n",
    "s1 = 'hello '\n",
    "s2 = 'world'\n",
    "print('s1 + s2 = ', s1 + s2)\n",
    "print('s1 = ', s1)\n",
    "print('s2 = ', s2)\n",
    "\n",
    "\n",
    "# 用 * 号将字符串重复n次\n",
    "#print()函数会将参数一个一个输出, 并在末尾输出换行符, 参数中间用一个空格隔开\n",
    "print('python is ', 's' + 'o' * 10, 'cool')  "
   ]
  },
  {
   "cell_type": "code",
   "execution_count": 4,
   "metadata": {},
   "outputs": [
    {
     "name": "stdout",
     "output_type": "stream",
     "text": [
      "<class 'bool'>\n",
      "<class 'bool'>\n",
      "x =  10\n",
      "0 < x < 20 :  True\n",
      "0 > -x > -20 :  True\n",
      "x > 0 and -x < 0 :  True\n",
      "not True :  False\n",
      "not False True\n"
     ]
    }
   ],
   "source": [
    "# 逻辑表达式\n",
    "\n",
    "print(type(True))\n",
    "print(type(False))\n",
    "x = 10\n",
    "print('x = ', x)\n",
    "print('0 < x < 20 : ',0 < x < 20)  # 逻辑表达式 \n",
    "print('0 > -x > -20 : ', 0 > -x > -20)\n",
    "print('x > 0 and -x < 0 : ' , x > 0 and -x < 0)\n",
    "print('not True : ' , not True)  # not运算符对逻辑值取反\n",
    "print('not False' , not False)"
   ]
  },
  {
   "cell_type": "markdown",
   "metadata": {},
   "source": [
    "## 语句\n",
    "\n",
    "python中, 一条语句占一行, 可以用分号;结尾, 但不是必须的 <br> \n",
    "也可以在一行中写多条语句, 中间用分号;分开 <br>\n",
    "但是python的表达能力很强, 一条语句已经能够做很多的事情, 因此不建议在一行中写多条语句  <br>"
   ]
  },
  {
   "cell_type": "code",
   "execution_count": 5,
   "metadata": {},
   "outputs": [
    {
     "name": "stdout",
     "output_type": "stream",
     "text": [
      "a =  this is an assignment statement, which occupies one line\n",
      "b =  2\n",
      "c =  3\n",
      "--------------------\n",
      "b =  4\n",
      "c =  5\n"
     ]
    }
   ],
   "source": [
    "a = 'this is an assignment statement, which occupies one line'\n",
    "b = 2; c = 3;  # 在一行中写了两条语句\n",
    "\n",
    "print('a = ', a)\n",
    "print('b = ', b)\n",
    "print('c = ', c)\n",
    "print('-' * 20)\n",
    "\n",
    "#上面第二行中的两条语句可以简写为如下\n",
    "# 这其实是python中的内置对象tuple, 后面会介绍到\n",
    "b , c = 4 , 5\n",
    "print('b = ', b)\n",
    "print('c = ', c)"
   ]
  },
  {
   "cell_type": "code",
   "execution_count": 6,
   "metadata": {},
   "outputs": [
    {
     "name": "stdout",
     "output_type": "stream",
     "text": [
      "x is positive\n",
      "i =  10\n",
      "j =  0\n",
      "j =  1\n",
      "j =  2\n",
      "j =  3\n",
      "j =  4\n"
     ]
    }
   ],
   "source": [
    "# 选择语句, 可以任意嵌套\n",
    "\n",
    "if x < 0:\n",
    "    print('x is negative')\n",
    "elif x > 0:\n",
    "    print('x is positive')\n",
    "else:\n",
    "    print('x equals zero')\n",
    "\n",
    "# while循环语句\n",
    "i = 0\n",
    "while i < 10:\n",
    "    i += 1\n",
    "print('i = ', i)\n",
    "\n",
    "# for 循环语句\n",
    "for j in range(5):\n",
    "    print('j = ',j )"
   ]
  },
  {
   "cell_type": "code",
   "execution_count": 19,
   "metadata": {},
   "outputs": [
    {
     "name": "stdout",
     "output_type": "stream",
     "text": [
      "4 is int :  True\n",
      "4 is str :  False\n",
      "'abc' is str :  True\n",
      "\"abc\" is int :  False\n",
      "1.5 is int :  False\n",
      "1.5 is float :  True\n"
     ]
    }
   ],
   "source": [
    "#类型检查\n",
    "print('4 is int : ',  isinstance(4, int) )\n",
    "print('4 is str : ',  isinstance(4, str) )\n",
    "print(\"'abc' is str : \", isinstance('abc', str))  # 用单引号 与双引号可以相互嵌套\n",
    "print('\"abc\" is int : ' , isinstance(\"abc\", int))\n",
    "print('1.5 is int : ', isinstance(1.5, int))\n",
    "print('1.5 is float : ', isinstance(1.5, float))"
   ]
  }
 ],
 "metadata": {
  "kernelspec": {
   "display_name": "Python 3",
   "language": "python",
   "name": "python3"
  },
  "language_info": {
   "codemirror_mode": {
    "name": "ipython",
    "version": 3
   },
   "file_extension": ".py",
   "mimetype": "text/x-python",
   "name": "python",
   "nbconvert_exporter": "python",
   "pygments_lexer": "ipython3",
   "version": "3.7.0"
  }
 },
 "nbformat": 4,
 "nbformat_minor": 2
}
