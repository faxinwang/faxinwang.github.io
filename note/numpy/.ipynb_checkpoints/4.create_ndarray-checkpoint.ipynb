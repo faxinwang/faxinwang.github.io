{
 "cells": [
  {
   "cell_type": "code",
   "execution_count": 1,
   "metadata": {},
   "outputs": [],
   "source": [
    "import numpy as np"
   ]
  },
  {
   "cell_type": "markdown",
   "metadata": {},
   "source": [
    "# 创建ndarray\n",
    "\n",
    "## 1.用 empty(), zeros(), ones() 创建"
   ]
  },
  {
   "cell_type": "markdown",
   "metadata": {},
   "source": [
    "###  np.empty()\n",
    "\n",
    "numpy.empty(shape, dtype = float, order = 'C') <br>\n",
    "使用empty() 创建时, 数组元素将是随机值"
   ]
  },
  {
   "cell_type": "code",
   "execution_count": 3,
   "metadata": {},
   "outputs": [
    {
     "name": "stdout",
     "output_type": "stream",
     "text": [
      "[[  43057181          0 1675088208]\n",
      " [         0          2          0]\n",
      " [        -1         -1          0]]\n"
     ]
    }
   ],
   "source": [
    "\n",
    "print( np.empty( [3,3], dtype=int) ) # shape 参数可以是list"
   ]
  },
  {
   "cell_type": "code",
   "execution_count": 6,
   "metadata": {},
   "outputs": [
    {
     "name": "stdout",
     "output_type": "stream",
     "text": [
      "[[6.6e-322 0.0e+000 0.0e+000]\n",
      " [0.0e+000 0.0e+000 0.0e+000]]\n"
     ]
    }
   ],
   "source": [
    "print( np.empty( (2,3), dtype=np.float) ) # 也可以是tuple"
   ]
  },
  {
   "cell_type": "markdown",
   "metadata": {},
   "source": [
    "### np.zeros()\n",
    "\n",
    "np.zeros()创建全0数组"
   ]
  },
  {
   "cell_type": "code",
   "execution_count": 7,
   "metadata": {},
   "outputs": [
    {
     "name": "stdout",
     "output_type": "stream",
     "text": [
      "[[[0 0 0]\n",
      "  [0 0 0]]\n",
      "\n",
      " [[0 0 0]\n",
      "  [0 0 0]]]\n"
     ]
    }
   ],
   "source": [
    "print( np.zeros((2,2,3), dtype='i2') ) # 创建了一个三维矩阵"
   ]
  },
  {
   "cell_type": "code",
   "execution_count": 9,
   "metadata": {},
   "outputs": [
    {
     "name": "stdout",
     "output_type": "stream",
     "text": [
      "[[0. 0. 0. 0. 0.]\n",
      " [0. 0. 0. 0. 0.]]\n"
     ]
    }
   ],
   "source": [
    "print( np.zeros((2,5), dtype=np.float) )"
   ]
  },
  {
   "cell_type": "markdown",
   "metadata": {},
   "source": [
    "### np.ones()\n",
    "np.ones() 创建全1数组"
   ]
  },
  {
   "cell_type": "code",
   "execution_count": 11,
   "metadata": {},
   "outputs": [
    {
     "name": "stdout",
     "output_type": "stream",
     "text": [
      "[1.]\n"
     ]
    }
   ],
   "source": [
    "print(np.ones(1)) # 可以看到, 默认数据类型为float"
   ]
  },
  {
   "cell_type": "code",
   "execution_count": 13,
   "metadata": {},
   "outputs": [
    {
     "name": "stdout",
     "output_type": "stream",
     "text": [
      "[1.]\n"
     ]
    }
   ],
   "source": [
    "print(np.ones((1,)))"
   ]
  },
  {
   "cell_type": "code",
   "execution_count": 19,
   "metadata": {},
   "outputs": [
    {
     "name": "stdout",
     "output_type": "stream",
     "text": [
      "[[1.]]\n"
     ]
    }
   ],
   "source": [
    "print(np.ones((1,1))) # 创建了一个1行1列的二维数组"
   ]
  },
  {
   "cell_type": "code",
   "execution_count": 21,
   "metadata": {},
   "outputs": [
    {
     "name": "stdout",
     "output_type": "stream",
     "text": [
      "[[1 1 1]\n",
      " [1 1 1]]\n"
     ]
    }
   ],
   "source": [
    "print(np.ones((2,3), dtype='i1'))"
   ]
  },
  {
   "cell_type": "markdown",
   "metadata": {},
   "source": [
    "## 2.从已有数据创建ndarray\n",
    "\n",
    "### np.asarray()\n",
    "numpy.asarray(a, dtype = None, order = None) <br>\n",
    "a可以是任意形式的输入参数，可以是，列表, 列表的元组, 元组, 元组的元组, 元组的列表，多维数组 <br>"
   ]
  },
  {
   "cell_type": "code",
   "execution_count": 27,
   "metadata": {},
   "outputs": [
    {
     "name": "stdout",
     "output_type": "stream",
     "text": [
      "[1 2 3 4]\n",
      "[1 2 3 4]\n"
     ]
    }
   ],
   "source": [
    "print(np.asarray((1,2,3,4)))\n",
    "print(np.asarray([1,2,3,4]))"
   ]
  },
  {
   "cell_type": "code",
   "execution_count": 39,
   "metadata": {},
   "outputs": [
    {
     "name": "stdout",
     "output_type": "stream",
     "text": [
      "[[1 1 1]\n",
      " [2 2 2]]\n",
      "\n",
      "[[1 1 1]\n",
      " [2 2 2]]\n"
     ]
    }
   ],
   "source": [
    "print(np.asarray( [(1,1,1), (2,2,2)] ))     # list of tuple\n",
    "print() \n",
    "print(np.asarray( ([1,1,1], [2,2,2]) ))     # tuple of list"
   ]
  },
  {
   "cell_type": "code",
   "execution_count": 48,
   "metadata": {},
   "outputs": [
    {
     "name": "stdout",
     "output_type": "stream",
     "text": [
      "[list([1, 1, 1]) list([2, 2])]\n",
      "[(1, 1, 1) (1, 1)]\n"
     ]
    }
   ],
   "source": [
    "print(np.asarray( ([1,1,1], [2,2]) ))  # 当 tuple 中是list时, list长度要相等\n",
    "print(np.asarray( [(1,1,1), (1,1)] ))  # 当 list 中是tuple时, tuple的长度可以不等"
   ]
  },
  {
   "cell_type": "markdown",
   "metadata": {},
   "source": [
    "### np.fromiter()\n",
    "\n",
    "numpy.fromiter(iterable, dtype, count=-1) <br>\n",
    "numpy.fromiter 方法从可迭代对象中建立 ndarray 对象，返回一维数组。<br>\n",
    "count表示要读取的数据量, -1表示全部读取 <br>"
   ]
  },
  {
   "cell_type": "code",
   "execution_count": 52,
   "metadata": {},
   "outputs": [
    {
     "name": "stdout",
     "output_type": "stream",
     "text": [
      "[0 1 2 3 4 5 6 7 8 9]\n"
     ]
    }
   ],
   "source": [
    "a = np.fromiter( range(10), dtype=int)\n",
    "print(a)"
   ]
  },
  {
   "cell_type": "markdown",
   "metadata": {},
   "source": [
    "### numpy.frombuffer()\n",
    "\n",
    "numpy.frombuffer(buffer, dtype = float, count = -1, offset = 0) <br>\n",
    "从缓冲区读取数据, offset表示读取的起始位置 <br>"
   ]
  },
  {
   "cell_type": "code",
   "execution_count": 55,
   "metadata": {},
   "outputs": [
    {
     "name": "stdout",
     "output_type": "stream",
     "text": [
      "[b'h' b'e' b'l' b'l' b'o' b' ' b'w' b'o' b'r' b'l' b'd']\n"
     ]
    }
   ],
   "source": [
    "s = b'hello world' # 前面加b , 把str对象转换为字符串数组\n",
    "a = np.frombuffer(s, dtype='S1' )\n",
    "print(a)"
   ]
  },
  {
   "cell_type": "markdown",
   "metadata": {},
   "source": [
    "## 3.从数值范围创建\n",
    "\n",
    "### numpy.arange()\n",
    "numpy.arange(start, stop, step, dtype) <br>\n",
    "生成从`[start,stop)`, 步长为step的数组, 注意是前开后闭区间 <br>\n",
    "dtype 默认为参数的数据类型<br>"
   ]
  },
  {
   "cell_type": "code",
   "execution_count": 57,
   "metadata": {},
   "outputs": [
    {
     "name": "stdout",
     "output_type": "stream",
     "text": [
      "[0.  1.3 2.6 3.9]\n"
     ]
    }
   ],
   "source": [
    "print(np.arange(5, step=1.3) ) # stop = 5,  省略了start"
   ]
  },
  {
   "cell_type": "code",
   "execution_count": 59,
   "metadata": {},
   "outputs": [
    {
     "name": "stdout",
     "output_type": "stream",
     "text": [
      "[0.1 0.3 0.5 0.7]\n"
     ]
    }
   ],
   "source": [
    "print(np.arange(0.1, 0.9, 0.2))  "
   ]
  },
  {
   "cell_type": "code",
   "execution_count": 64,
   "metadata": {},
   "outputs": [
    {
     "name": "stdout",
     "output_type": "stream",
     "text": [
      "[0.1 1.1 2.1 3.1]\n"
     ]
    }
   ],
   "source": [
    "print(np.arange(0.1, 3.9) )  # step 默认为1"
   ]
  },
  {
   "cell_type": "markdown",
   "metadata": {},
   "source": [
    "### numpy.linspace()\n",
    "\n",
    "np.linspace(start, stop, num=50, endpoint=True, retstep=False, dtype=None) <br>\n",
    "* 该函数把区间`[start, stop]` 分成num段, 返回的数组表示区间的端点 <br>\n",
    "* 当endpoint表示要不要包含stop到最后的数组中  <br>"
   ]
  },
  {
   "cell_type": "code",
   "execution_count": 70,
   "metadata": {},
   "outputs": [
    {
     "name": "stdout",
     "output_type": "stream",
     "text": [
      "[1]\n",
      "[ 1 10]\n"
     ]
    }
   ],
   "source": [
    "print(np.linspace(1, 10, 1, dtype=int))\n",
    "print(np.linspace(1, 10, 2, dtype=int))"
   ]
  },
  {
   "cell_type": "code",
   "execution_count": 71,
   "metadata": {},
   "outputs": [
    {
     "name": "stdout",
     "output_type": "stream",
     "text": [
      "[ 1.    3.25  5.5   7.75 10.  ]\n"
     ]
    }
   ],
   "source": [
    "print(np.linspace(1, 10, 5))"
   ]
  },
  {
   "cell_type": "code",
   "execution_count": 75,
   "metadata": {},
   "outputs": [
    {
     "name": "stdout",
     "output_type": "stream",
     "text": [
      "(array([ 1.  ,  3.25,  5.5 ,  7.75, 10.  ]), 2.25)\n",
      "[ 1.    3.25  5.5   7.75 10.  ]\n",
      "2.25\n"
     ]
    }
   ],
   "source": [
    "t = np.linspace(1, 10, 5, retstep=True)  # 返回的是一个tuple\n",
    "print(t)  \n",
    "print(t[0])    # 第一个就是生成的数组\n",
    "print(t[1])    # 第二个是步长 step "
   ]
  },
  {
   "cell_type": "markdown",
   "metadata": {},
   "source": [
    "### numpy.logspace()\n",
    "\n",
    "np.logspace(start, stop, num=50, endpoint=True, base=10.0, dtype=None) <br>\n",
    "该函数用于创建一个等比数列 <br>\n",
    "base : 对数log的底数"
   ]
  },
  {
   "cell_type": "code",
   "execution_count": 84,
   "metadata": {},
   "outputs": [
    {
     "name": "stdout",
     "output_type": "stream",
     "text": [
      "[1.000e+00 4.000e+00 1.600e+01 6.400e+01 2.560e+02 1.024e+03]\n",
      "[   1    4   16   64  256 1024]\n"
     ]
    }
   ],
   "source": [
    "print(np.logspace(0, 10, 6, base=2) )\n",
    "print(np.logspace(0, 10, 6, base=2, dtype=int) )"
   ]
  }
 ],
 "metadata": {
  "kernelspec": {
   "display_name": "Python 3",
   "language": "python",
   "name": "python3"
  },
  "language_info": {
   "codemirror_mode": {
    "name": "ipython",
    "version": 3
   },
   "file_extension": ".py",
   "mimetype": "text/x-python",
   "name": "python",
   "nbconvert_exporter": "python",
   "pygments_lexer": "ipython3",
   "version": "3.6.7"
  }
 },
 "nbformat": 4,
 "nbformat_minor": 2
}
