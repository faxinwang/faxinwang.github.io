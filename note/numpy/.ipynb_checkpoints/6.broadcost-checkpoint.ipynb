{
 "cells": [
  {
   "cell_type": "markdown",
   "metadata": {},
   "source": [
    "# broadcost\n",
    "\n",
    "1. 单元素与数组(向量, 矩阵,或更高维度的矩阵)进行算术运算时, 把该元素与数组每个元素进行算术运算, 返回一个新数组\n",
    "2. 向量与向量, 矩阵与矩阵进行算术运算时,其形状必须相同\n",
    "3. 向量与矩阵继续算术运算时, 向量的长度必须与矩阵的某一个维度相等\n",
    "4. 上述所说的运算中,维度较大的一个必须是numpy的ndarray对象, broadcost操作是由ndarray支持的"
   ]
  },
  {
   "cell_type": "code",
   "execution_count": 1,
   "metadata": {},
   "outputs": [],
   "source": [
    "import numpy as np"
   ]
  },
  {
   "cell_type": "code",
   "execution_count": 4,
   "metadata": {},
   "outputs": [
    {
     "name": "stdout",
     "output_type": "stream",
     "text": [
      "[1 2 3 4 5 6 7 8 9]\n",
      "[ 2  3  4  5  6  7  8  9 10]\n"
     ]
    }
   ],
   "source": [
    "a = np.arange(1, 10)\n",
    "print(a)\n",
    "print(a+1)"
   ]
  },
  {
   "cell_type": "code",
   "execution_count": 6,
   "metadata": {},
   "outputs": [
    {
     "name": "stdout",
     "output_type": "stream",
     "text": [
      "[[11 21 31]\n",
      " [41 51 61]\n",
      " [71 81 91]]\n"
     ]
    }
   ],
   "source": [
    "a = np.array([(10,20,30),\n",
    "              (40,50,60),\n",
    "              (70,80,90)])\n",
    "print(a + 1)     # 逐元素相加"
   ]
  },
  {
   "cell_type": "code",
   "execution_count": 12,
   "metadata": {},
   "outputs": [
    {
     "name": "stdout",
     "output_type": "stream",
     "text": [
      "[[11 22 33]\n",
      " [41 52 63]\n",
      " [71 82 93]]\n"
     ]
    }
   ],
   "source": [
    "v = [1,2,3]   # 行向量\n",
    "print(a + v)  # 逐行相加"
   ]
  },
  {
   "cell_type": "code",
   "execution_count": 16,
   "metadata": {},
   "outputs": [
    {
     "name": "stdout",
     "output_type": "stream",
     "text": [
      "[[11 21 31]\n",
      " [42 52 62]\n",
      " [73 83 93]]\n"
     ]
    }
   ],
   "source": [
    "v = [[1],[2],[3]]  # 列向量\n",
    "print(a + v)       # 逐列相加"
   ]
  }
 ],
 "metadata": {
  "kernelspec": {
   "display_name": "Python 3",
   "language": "python",
   "name": "python3"
  },
  "language_info": {
   "codemirror_mode": {
    "name": "ipython",
    "version": 3
   },
   "file_extension": ".py",
   "mimetype": "text/x-python",
   "name": "python",
   "nbconvert_exporter": "python",
   "pygments_lexer": "ipython3",
   "version": "3.6.7"
  }
 },
 "nbformat": 4,
 "nbformat_minor": 2
}
