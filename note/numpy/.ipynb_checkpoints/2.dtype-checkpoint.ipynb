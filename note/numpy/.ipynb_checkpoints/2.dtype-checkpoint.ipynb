{
 "cells": [
  {
   "cell_type": "markdown",
   "metadata": {},
   "source": [
    "dtype() 函数可以用于创建自定义数据类型, 然后可以用这个自定义数据类型来创建ndarray\n"
   ]
  },
  {
   "cell_type": "code",
   "execution_count": 9,
   "metadata": {},
   "outputs": [],
   "source": [
    "import numpy as np"
   ]
  },
  {
   "attachments": {},
   "cell_type": "markdown",
   "metadata": {},
   "source": [
    "numpy的基本数据类型都有一个唯一的简短字符与其对应<br>\n",
    "![1_dtype.jpg](img/1_dtype.jpg)"
   ]
  },
  {
   "cell_type": "code",
   "execution_count": 16,
   "metadata": {},
   "outputs": [
    {
     "name": "stdout",
     "output_type": "stream",
     "text": [
      "int32\n",
      "float64\n",
      "int8 int16 int32 int64\n",
      "|S20\n"
     ]
    }
   ],
   "source": [
    "# 查看基本数据类型\n",
    "print(np.dtype(np.int))\n",
    "print(np.dtype(np.float))\n",
    "# i表示int, 后面的数字表示所占用的字节数\n",
    "print(np.dtype('i1'), np.dtype('i2'),  np.dtype('i4'), np.dtype('i8')) \n",
    "print(np.dtype('S20'))"
   ]
  },
  {
   "cell_type": "code",
   "execution_count": 24,
   "metadata": {},
   "outputs": [
    {
     "name": "stdout",
     "output_type": "stream",
     "text": [
      "[(b'zs', 20, 56.7) (b'ls', 22, 55.8) (b'ww', 23, 70. )]\n"
     ]
    }
   ],
   "source": [
    "# 构造自定义数据类型\n",
    "# dtype()的参数是一个以 二元组为元素的list,每个二元组描述一个成员变量\n",
    "Student = np.dtype( [('name','S20'), ('age', 'i2'), ('weight', 'f2')] )\n",
    "arr = np.array( [('zs', 20, 56.7),('ls', 22, 55.8),('ww', 23, 70)] ,dtype=Student)\n",
    "print(arr)\n"
   ]
  }
 ],
 "metadata": {
  "kernelspec": {
   "display_name": "Python 3",
   "language": "python",
   "name": "python3"
  },
  "language_info": {
   "codemirror_mode": {
    "name": "ipython",
    "version": 3
   },
   "file_extension": ".py",
   "mimetype": "text/x-python",
   "name": "python",
   "nbconvert_exporter": "python",
   "pygments_lexer": "ipython3",
   "version": "3.6.7"
  }
 },
 "nbformat": 4,
 "nbformat_minor": 2
}
