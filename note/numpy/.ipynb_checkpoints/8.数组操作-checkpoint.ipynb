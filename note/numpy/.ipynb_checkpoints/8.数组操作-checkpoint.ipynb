{
 "cells": [
  {
   "cell_type": "markdown",
   "metadata": {},
   "source": [
    "# numpy数组操作"
   ]
  },
  {
   "cell_type": "code",
   "execution_count": 1,
   "metadata": {},
   "outputs": [],
   "source": [
    "import numpy as np"
   ]
  },
  {
   "cell_type": "markdown",
   "metadata": {},
   "source": [
    "## 1.修改数组形状\n",
    "### resize()\n",
    "np.ndarray.resize( shape ) 修改原数组的大小 <br>\n",
    "np.resize( arr, shape ) 返回一个新的数组"
   ]
  },
  {
   "cell_type": "code",
   "execution_count": 2,
   "metadata": {},
   "outputs": [
    {
     "name": "stdout",
     "output_type": "stream",
     "text": [
      "[[1 1]\n",
      " [1 1]]\n",
      "[[1 1 1 1]\n",
      " [0 0 0 0]\n",
      " [0 0 0 0]\n",
      " [0 0 0 0]]\n"
     ]
    }
   ],
   "source": [
    "a = np.ones(shape=(2,2), dtype=int)\n",
    "print(a)\n",
    "a.resize(4,4)\n",
    "print(a)"
   ]
  },
  {
   "cell_type": "code",
   "execution_count": 3,
   "metadata": {},
   "outputs": [
    {
     "name": "stdout",
     "output_type": "stream",
     "text": [
      "[[1 1 1]\n",
      " [1 0 0]\n",
      " [0 0 0]]\n"
     ]
    }
   ],
   "source": [
    "a.resize(3,3)\n",
    "print(a)"
   ]
  },
  {
   "cell_type": "markdown",
   "metadata": {},
   "source": [
    "### reshape()\n",
    "返回一个新数组,不会改变原来的数组"
   ]
  },
  {
   "cell_type": "code",
   "execution_count": 4,
   "metadata": {},
   "outputs": [
    {
     "name": "stdout",
     "output_type": "stream",
     "text": [
      "[ 0  1  2  3  4  5  6  7  8  9 10 11]\n",
      "a.shape =  (12,)\n",
      "0 1 2 3 4 5 6 7 8 9 10 11 \n"
     ]
    }
   ],
   "source": [
    "a = np.arange(12)\n",
    "print(a)\n",
    "print('a.shape = ', a.shape)\n",
    "for x in a: print(x,end = ' ')\n",
    "print()"
   ]
  },
  {
   "cell_type": "code",
   "execution_count": 5,
   "metadata": {},
   "outputs": [
    {
     "name": "stdout",
     "output_type": "stream",
     "text": [
      "a.shape =  (12,)\n",
      "[[ 0  1  2  3]\n",
      " [ 4  5  6  7]\n",
      " [ 8  9 10 11]]\n",
      "b.shape =  (3, 4)\n",
      "[0 1 2 3]\n",
      "[4 5 6 7]\n",
      "[ 8  9 10 11]\n"
     ]
    }
   ],
   "source": [
    "b = a.reshape(3,4) # 返回一个新数组\n",
    "print('a.shape = ', a.shape)\n",
    "print(b)\n",
    "print('b.shape = ', b.shape)\n",
    "for x in b: print(x)"
   ]
  },
  {
   "cell_type": "markdown",
   "metadata": {},
   "source": [
    "### ndarray.flat \n",
    "flat属性可用于迭代其对应的ndarray, 但无法对元素进行修改"
   ]
  },
  {
   "cell_type": "code",
   "execution_count": 6,
   "metadata": {},
   "outputs": [
    {
     "name": "stdout",
     "output_type": "stream",
     "text": [
      "<numpy.flatiter object at 0x00000000005150C0>\n",
      "0 1 2 3 4 5 6 7 8 9 10 11 \n",
      "[[ 0  1  2  3]\n",
      " [ 4  5  6  7]\n",
      " [ 8  9 10 11]]\n"
     ]
    }
   ],
   "source": [
    "# 以行序逐元素访问\n",
    "print(b.flat)\n",
    "for x in b.flat:\n",
    "    print(x, end=' ')\n",
    "    x = x*2  # 该修改对原数组无效\n",
    "print()\n",
    "print(b)"
   ]
  },
  {
   "cell_type": "markdown",
   "metadata": {},
   "source": [
    "### ndarray.flatten()\n",
    "\n",
    "返回一份数组拷贝，对拷贝所做的修改不会影响原始数组, 返回的数组是一维的"
   ]
  },
  {
   "cell_type": "code",
   "execution_count": 7,
   "metadata": {},
   "outputs": [
    {
     "name": "stdout",
     "output_type": "stream",
     "text": [
      "[ 0  1  2  3  4  5  6  7  8  9 10 11]\n",
      "[ 0  4  8  1  5  9  2  6 10  3  7 11]\n"
     ]
    }
   ],
   "source": [
    "print(b.flatten() ) # 返回展开成一维的数组, 默认以行序展开\n",
    "print(b.flatten(order = 'F')) # 以列序展开"
   ]
  },
  {
   "cell_type": "markdown",
   "metadata": {},
   "source": [
    "## 2.连接数组\n",
    "\n",
    "### np.concatenate()\n",
    "用于沿指定轴连接相同形状的两个或多个数组，格式如下：<br>\n",
    "numpy.concatenate( (a1, a2, ...), axis)"
   ]
  },
  {
   "cell_type": "code",
   "execution_count": 8,
   "metadata": {},
   "outputs": [
    {
     "name": "stdout",
     "output_type": "stream",
     "text": [
      "[[1 2]\n",
      " [3 4]]\n",
      "\n",
      "[[5 6]\n",
      " [7 8]]\n"
     ]
    }
   ],
   "source": [
    "a = np.arange(1,5).reshape(2,2)\n",
    "b = np.arange(5,9).reshape(2,2)\n",
    "print(a)\n",
    "print()\n",
    "print(b)"
   ]
  },
  {
   "cell_type": "code",
   "execution_count": 9,
   "metadata": {},
   "outputs": [
    {
     "name": "stdout",
     "output_type": "stream",
     "text": [
      "[[1 2]\n",
      " [3 4]\n",
      " [5 6]\n",
      " [7 8]]\n"
     ]
    }
   ],
   "source": [
    "print( np.concatenate( (a,b), axis=0) )  # b 连接到a的下面"
   ]
  },
  {
   "cell_type": "code",
   "execution_count": 10,
   "metadata": {},
   "outputs": [
    {
     "name": "stdout",
     "output_type": "stream",
     "text": [
      "[[1 2 5 6]\n",
      " [3 4 7 8]]\n"
     ]
    }
   ],
   "source": [
    "print( np.concatenate( (a,b), axis=1) ) # b 连接到 a的右边"
   ]
  },
  {
   "cell_type": "markdown",
   "metadata": {},
   "source": [
    "### np.hstack(), np.vstack() 有类似的作用"
   ]
  },
  {
   "cell_type": "code",
   "execution_count": 11,
   "metadata": {},
   "outputs": [
    {
     "name": "stdout",
     "output_type": "stream",
     "text": [
      "[[1 2 5 6]\n",
      " [3 4 7 8]]\n"
     ]
    }
   ],
   "source": [
    "print(np.hstack( (a,b) ) )   # 水平方向堆叠"
   ]
  },
  {
   "cell_type": "code",
   "execution_count": 12,
   "metadata": {},
   "outputs": [
    {
     "name": "stdout",
     "output_type": "stream",
     "text": [
      "[[1 2]\n",
      " [3 4]\n",
      " [5 6]\n",
      " [7 8]]\n"
     ]
    }
   ],
   "source": [
    "print(np.vstack( (a,b) ) )  # 垂直方向堆叠"
   ]
  },
  {
   "cell_type": "markdown",
   "metadata": {},
   "source": [
    "## 3.分割数组\n",
    "\n",
    "### np.split()"
   ]
  },
  {
   "cell_type": "code",
   "execution_count": 13,
   "metadata": {},
   "outputs": [
    {
     "name": "stdout",
     "output_type": "stream",
     "text": [
      "[array([0, 1, 2, 3, 4, 5]), array([ 6,  7,  8,  9, 10, 11])]\n",
      "[0 1 2 3 4 5]\n",
      "[ 6  7  8  9 10 11]\n"
     ]
    }
   ],
   "source": [
    "a = np.arange(12)\n",
    "print(np.split(a, 2)) # 将a分成两个子数组\n",
    "for x in np.split(a, 2):\n",
    "    print(x)"
   ]
  },
  {
   "cell_type": "code",
   "execution_count": 14,
   "metadata": {},
   "outputs": [
    {
     "name": "stdout",
     "output_type": "stream",
     "text": [
      "[array([0, 1, 2]), array([3, 4, 5]), array([6, 7, 8]), array([ 9, 10, 11])]\n",
      "[0 1 2]\n",
      "[3 4 5]\n",
      "[6 7 8]\n",
      "[ 9 10 11]\n"
     ]
    }
   ],
   "source": [
    "print(np.split(a, [3,6,9]))  # 从指定位置拆分\n",
    "for x in np.split(a, [3,6,9]):\n",
    "    print(x)"
   ]
  },
  {
   "cell_type": "code",
   "execution_count": 17,
   "metadata": {},
   "outputs": [
    {
     "name": "stdout",
     "output_type": "stream",
     "text": [
      "[[ 0  1  2  3]\n",
      " [ 4  5  6  7]\n",
      " [ 8  9 10 11]]\n"
     ]
    }
   ],
   "source": [
    "b = np.array( np.split(a, 3) )\n",
    "print(b)"
   ]
  },
  {
   "cell_type": "markdown",
   "metadata": {},
   "source": [
    "## 4. 附加元素\n",
    "\n",
    "### append()\n",
    "numpy.append(arr, values, axis=None), 返回一个新数组"
   ]
  },
  {
   "cell_type": "code",
   "execution_count": 30,
   "metadata": {},
   "outputs": [
    {
     "name": "stdout",
     "output_type": "stream",
     "text": [
      "[[1 2 3]\n",
      " [4 5 6]]\n"
     ]
    }
   ],
   "source": [
    "a = np.arange(1,7).reshape(2,3)\n",
    "print(a)"
   ]
  },
  {
   "cell_type": "code",
   "execution_count": 35,
   "metadata": {},
   "outputs": [
    {
     "name": "stdout",
     "output_type": "stream",
     "text": [
      "[1 2 3 4 5 6 0 0]\n",
      "[1 2 3 4 5 6 0 1 2 3]\n"
     ]
    }
   ],
   "source": [
    "# 默认情况下, 会将两个参数都展开成一维的, 然后连接起来\n",
    "print(np.append(a, [0,0] ) )     \n",
    "print(np.append(a, [[0,1],[2,3]] ) )  "
   ]
  },
  {
   "cell_type": "code",
   "execution_count": 38,
   "metadata": {},
   "outputs": [
    {
     "name": "stdout",
     "output_type": "stream",
     "text": [
      "[[1 2 3]\n",
      " [4 5 6]\n",
      " [7 8 9]]\n"
     ]
    }
   ],
   "source": [
    "# 如果指定了 axis 参数, 则以axis指定的方向连接前两个参数\n",
    "print(np.append(a, [[7,8,9]], axis=0))"
   ]
  },
  {
   "cell_type": "code",
   "execution_count": 40,
   "metadata": {},
   "outputs": [
    {
     "name": "stdout",
     "output_type": "stream",
     "text": [
      "[[1 2 3 0 1]\n",
      " [4 5 6 2 3]]\n"
     ]
    }
   ],
   "source": [
    "print(np.append(a, [[0,1],[2,3]], axis=1))"
   ]
  },
  {
   "cell_type": "markdown",
   "metadata": {},
   "source": [
    "## 5.插入元素\n",
    "np.insert(arr, obj, values, axis)\n"
   ]
  },
  {
   "cell_type": "code",
   "execution_count": 42,
   "metadata": {},
   "outputs": [
    {
     "name": "stdout",
     "output_type": "stream",
     "text": [
      "[[1 2 3]\n",
      " [4 5 6]]\n"
     ]
    }
   ],
   "source": [
    "a = np.arange(1, 7).reshape(2,3)\n",
    "print(a)"
   ]
  },
  {
   "cell_type": "code",
   "execution_count": 70,
   "metadata": {},
   "outputs": [
    {
     "name": "stdout",
     "output_type": "stream",
     "text": [
      "[1 2 0 0 0 3 4 5 6]\n",
      "[1 2 0 3 4 5 6]\n"
     ]
    }
   ],
   "source": [
    "# 默认情况下, 会将待插入的数组和要插入的数组展开, 然后再插入到指定位置\n",
    "print(np.insert(a, 2, [0,0,0] ))\n",
    "print(np.insert(a, 2, 0))\n",
    "# print(np.insert(a, 2, [[0,0,0]] )) #error"
   ]
  },
  {
   "cell_type": "code",
   "execution_count": 71,
   "metadata": {},
   "outputs": [
    {
     "name": "stdout",
     "output_type": "stream",
     "text": [
      "[[1 2 3]\n",
      " [0 0 0]\n",
      " [4 5 6]]\n",
      "[[ 1  0 -1  2  3]\n",
      " [ 4  0 -1  5  6]]\n"
     ]
    }
   ],
   "source": [
    "# 如果指定了 axis参数, 则会在指定方向上进行插入\n",
    "print(np.insert(a, 1, [0,0,0], axis=0)) \n",
    "# 注意参数是一列一列插进去的, 而不是作为一个整体一次性插入的\n",
    "print(np.insert(a, 1, [[0,0],[-1,-1]], axis=1)) "
   ]
  },
  {
   "cell_type": "code",
   "execution_count": 74,
   "metadata": {},
   "outputs": [
    {
     "name": "stdout",
     "output_type": "stream",
     "text": [
      "[[1 2 3]\n",
      " [0 0 0]\n",
      " [4 5 6]]\n",
      "[[1 0 2 3]\n",
      " [4 0 5 6]]\n"
     ]
    }
   ],
   "source": [
    "# 如果插入的是单个数字,并且指定了 axis参数, 则会在axis指定的方向上进行广播操作\n",
    "print(np.insert(a, 1, 0, axis=0)) # 在 index=1的行上广播\n",
    "print(np.insert(a, 1, 0, axis=1)) # 在 index=1的列上广播"
   ]
  },
  {
   "cell_type": "markdown",
   "metadata": {},
   "source": [
    "## 6.删除元素\n",
    "np.delete(arr, obj, axis)"
   ]
  },
  {
   "cell_type": "code",
   "execution_count": 80,
   "metadata": {},
   "outputs": [
    {
     "name": "stdout",
     "output_type": "stream",
     "text": [
      "[[ 1  2  3  4]\n",
      " [ 5  6  7  8]\n",
      " [ 9 10 11 12]]\n"
     ]
    }
   ],
   "source": [
    "a = np.arange(1,13).reshape(3,4)\n",
    "print(a)"
   ]
  },
  {
   "cell_type": "code",
   "execution_count": 83,
   "metadata": {},
   "outputs": [
    {
     "name": "stdout",
     "output_type": "stream",
     "text": [
      "[ 1  3  4  5  6  7  8  9 10 11 12]\n",
      "[ 1  2  4  5  7  9 10 11 12]\n"
     ]
    }
   ],
   "source": [
    "# 删除对应下标的一个或多个元素\n",
    "print(np.delete(a, 1))\n",
    "print(np.delete(a, [2,5,7]))"
   ]
  },
  {
   "cell_type": "code",
   "execution_count": 85,
   "metadata": {},
   "outputs": [
    {
     "name": "stdout",
     "output_type": "stream",
     "text": [
      "[[ 1  2  3  4]\n",
      " [ 9 10 11 12]]\n"
     ]
    }
   ],
   "source": [
    "print(np.delete(a, 1, axis=0))  # 删除下标为1的行"
   ]
  },
  {
   "cell_type": "code",
   "execution_count": 87,
   "metadata": {},
   "outputs": [
    {
     "name": "stdout",
     "output_type": "stream",
     "text": [
      "[[ 2  4]\n",
      " [ 6  8]\n",
      " [10 12]]\n"
     ]
    }
   ],
   "source": [
    "print(np.delete(a, [0,2], axis=1)) # 删除下标为0,2的列"
   ]
  },
  {
   "cell_type": "markdown",
   "metadata": {},
   "source": [
    "## 7.元素去重\n",
    "np.unique(arr, return_index, return_inverse, return_counts) <br>\n",
    "arr如果不是一维的, 会自动展成一维数组, 并且对数组进行排序"
   ]
  },
  {
   "cell_type": "code",
   "execution_count": 93,
   "metadata": {},
   "outputs": [
    {
     "name": "stdout",
     "output_type": "stream",
     "text": [
      "[[6 5 5 3 3 2 1]\n",
      " [2 3 4 7 7 6 1]]\n"
     ]
    }
   ],
   "source": [
    "a = np.array([[6,5,5,3,3,2,1], [2,3,4,7,7,6,1] ])\n",
    "print(a)"
   ]
  },
  {
   "cell_type": "code",
   "execution_count": 94,
   "metadata": {},
   "outputs": [
    {
     "name": "stdout",
     "output_type": "stream",
     "text": [
      "[1 2 3 4 5 6 7]\n"
     ]
    }
   ],
   "source": [
    "print(np.unique(a))"
   ]
  },
  {
   "cell_type": "code",
   "execution_count": 95,
   "metadata": {},
   "outputs": [
    {
     "name": "stdout",
     "output_type": "stream",
     "text": [
      "[1 2 3 4 5 6 7]\n",
      "[ 6  5  3  9  1  0 10]\n"
     ]
    }
   ],
   "source": [
    "b, idx = np.unique(a, return_index=True)\n",
    "print(b)\n",
    "print(idx) # 个元素在原数组(展开后)中首次出现的下标"
   ]
  },
  {
   "cell_type": "code",
   "execution_count": 96,
   "metadata": {},
   "outputs": [
    {
     "name": "stdout",
     "output_type": "stream",
     "text": [
      "[1 2 3 4 5 6 7]\n",
      "[2 2 3 1 2 2 2]\n"
     ]
    }
   ],
   "source": [
    "b,cnt = np.unique(a, return_counts=True)\n",
    "print(b)\n",
    "print(cnt)  #各元素在原数组中出现的次数"
   ]
  },
  {
   "cell_type": "code",
   "execution_count": 101,
   "metadata": {},
   "outputs": [
    {
     "name": "stdout",
     "output_type": "stream",
     "text": [
      "[1 2 3 4 5 6 7]\n",
      "[5 4 4 2 2 1 0 1 2 3 6 6 5 0]\n",
      "[6 5 5 3 3 2 1 2 3 4 7 7 6 1]\n"
     ]
    }
   ],
   "source": [
    "b, inv = np.unique(a, return_inverse=True)\n",
    "print(b)\n",
    "print(inv)    # 原数组中各元素是b中的那一个(下标)的元素\n",
    "print(b[inv]) # 用去重数组和原数组元素在新数组中的索引重构出原数组"
   ]
  }
 ],
 "metadata": {
  "kernelspec": {
   "display_name": "Python 3",
   "language": "python",
   "name": "python3"
  },
  "language_info": {
   "codemirror_mode": {
    "name": "ipython",
    "version": 3
   },
   "file_extension": ".py",
   "mimetype": "text/x-python",
   "name": "python",
   "nbconvert_exporter": "python",
   "pygments_lexer": "ipython3",
   "version": "3.7.0"
  }
 },
 "nbformat": 4,
 "nbformat_minor": 2
}
