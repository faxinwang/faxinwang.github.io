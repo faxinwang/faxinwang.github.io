{
 "cells": [
  {
   "cell_type": "markdown",
   "metadata": {},
   "source": [
    "# nditer\n",
    "\n",
    "迭代器对象 numpy.nditer 提供了一种灵活访问一个或者多个数组元素的方式\n",
    "\n",
    "## 访问\n",
    "创建nditer对象时, 如果不指定访问方式, 默认是只读的"
   ]
  },
  {
   "cell_type": "code",
   "execution_count": 1,
   "metadata": {},
   "outputs": [],
   "source": [
    "import numpy as np"
   ]
  },
  {
   "cell_type": "code",
   "execution_count": 5,
   "metadata": {},
   "outputs": [
    {
     "name": "stdout",
     "output_type": "stream",
     "text": [
      "[[ 1  2  3  4]\n",
      " [ 5  6  7  8]\n",
      " [ 9 10 11 12]]\n"
     ]
    }
   ],
   "source": [
    "a = np.arange(1,13).reshape(3,4)\n",
    "print(a)"
   ]
  },
  {
   "cell_type": "code",
   "execution_count": 15,
   "metadata": {},
   "outputs": [
    {
     "name": "stdout",
     "output_type": "stream",
     "text": [
      "<numpy.nditer object at 0x0000000004DCF670>\n",
      "1, 2, 3, 4, 5, 6, 7, 8, 9, 10, 11, 12, \n",
      "1, 2, 3, 4, 5, 6, 7, 8, 9, 10, 11, 12, "
     ]
    }
   ],
   "source": [
    "print(np.nditer(a)) # 构造了一个迭代器对象\n",
    "# 顺序遍历 a\n",
    "for x in np.nditer(a):\n",
    "    print(x, end=', ')\n",
    "# 顺序遍历其转置 a.T\n",
    "print()\n",
    "for x in np.nditer(a.T):\n",
    "    print(x, end=', ')\n",
    "# 可以看到, a 和 a.T的存储顺序是相同的, 都是在一维内存空间中顺序存储的, 这样做是为了效率"
   ]
  },
  {
   "cell_type": "code",
   "execution_count": 12,
   "metadata": {},
   "outputs": [
    {
     "name": "stdout",
     "output_type": "stream",
     "text": [
      "[[ 1  5  9]\n",
      " [ 2  6 10]\n",
      " [ 3  7 11]\n",
      " [ 4  8 12]]\n"
     ]
    }
   ],
   "source": [
    "# 要使得 a.T 的存储顺序与逻辑顺序一致, 可以通过拷贝一份, 拷贝的时候指定(拷贝)存储顺序即可\n",
    "b = a.T.copy()  # 默认 是以从上到下, 从左到右的顺序拷贝的\n",
    "print(b)"
   ]
  },
  {
   "cell_type": "code",
   "execution_count": 13,
   "metadata": {},
   "outputs": [
    {
     "name": "stdout",
     "output_type": "stream",
     "text": [
      "1, 5, 9, 2, 6, 10, 3, 7, 11, 4, 8, 12, \n",
      "1, 5, 9, 2, 6, 10, 3, 7, 11, 4, 8, 12, "
     ]
    }
   ],
   "source": [
    "# 顺序遍历 b\n",
    "for x in np.nditer(b):\n",
    "    print(x, end=', ')\n",
    "# 顺序遍历其转置 b.T\n",
    "print()\n",
    "for x in np.nditer(b.T):\n",
    "    print(x, end=', ')\n",
    "# 可以看到, 现在的 b, 也就是a.T, 拷贝之后其逻辑顺序与存储顺序是一致的"
   ]
  },
  {
   "cell_type": "code",
   "execution_count": 14,
   "metadata": {},
   "outputs": [
    {
     "name": "stdout",
     "output_type": "stream",
     "text": [
      "1, 5, 9, 2, 6, 10, 3, 7, 11, 4, 8, 12, "
     ]
    }
   ],
   "source": [
    "# 也可以在nditer() 中使用order参数指定遍历的顺序\n",
    "# 这样 'F' 表示按照 Fortran 语言的风格, 即以 列序为主的顺序\n",
    "for x in np.nditer(a, order='F'):  # 默认是'C',即C语言风格的以行序为主的格式\n",
    "    print(x, end=', ')"
   ]
  },
  {
   "cell_type": "markdown",
   "metadata": {},
   "source": [
    "## 修改\n",
    "\n",
    "通过指定 nditer 对象的op_flags参数值为 readwrite 或者 writeonly 来修改数组元素"
   ]
  },
  {
   "cell_type": "code",
   "execution_count": 23,
   "metadata": {},
   "outputs": [
    {
     "name": "stdout",
     "output_type": "stream",
     "text": [
      "[[ 4  8 12 16]\n",
      " [20 24 28 32]\n",
      " [36 40 44 48]]\n"
     ]
    }
   ],
   "source": [
    "for x in np.nditer(a, op_flags=['readwrite']):\n",
    "    x[...] = x*2\n",
    "print(a)"
   ]
  },
  {
   "cell_type": "markdown",
   "metadata": {},
   "source": [
    "## flags参数\n",
    "\n",
    "flags 参数中的 'external_loop' 参数值可以拿到二维数组的一整行或一整列"
   ]
  },
  {
   "cell_type": "code",
   "execution_count": 29,
   "metadata": {},
   "outputs": [
    {
     "name": "stdout",
     "output_type": "stream",
     "text": [
      "[ 4  8 12 16 20 24 28 32 36 40 44 48]\n"
     ]
    }
   ],
   "source": [
    "for x in np.nditer(a, flags=['external_loop']):\n",
    "    print(x)"
   ]
  },
  {
   "cell_type": "code",
   "execution_count": 28,
   "metadata": {},
   "outputs": [
    {
     "name": "stdout",
     "output_type": "stream",
     "text": [
      "[ 4 20 36]\n",
      "[ 8 24 40]\n",
      "[12 28 44]\n",
      "[16 32 48]\n"
     ]
    }
   ],
   "source": [
    "for x in np.nditer(a, flags=['external_loop'], order='F'): # 一次获取一列\n",
    "    print(x) "
   ]
  },
  {
   "cell_type": "markdown",
   "metadata": {},
   "source": [
    "## 广播迭代\n",
    "\n",
    "当两个数组可以进行广播操作时, 就可以对他们进行广播迭代, 即广播与迭代同时进行"
   ]
  },
  {
   "cell_type": "code",
   "execution_count": 31,
   "metadata": {},
   "outputs": [
    {
     "name": "stdout",
     "output_type": "stream",
     "text": [
      "4 1\n",
      "8 2\n",
      "12 3\n",
      "16 4\n",
      "20 1\n",
      "24 2\n",
      "28 3\n",
      "32 4\n",
      "36 1\n",
      "40 2\n",
      "44 3\n",
      "48 4\n"
     ]
    }
   ],
   "source": [
    "c = [1,2,3,4]  # 可以与a进行广播\n",
    "for x, y in np.nditer([a,c]):\n",
    "    print(x,y)"
   ]
  },
  {
   "cell_type": "code",
   "execution_count": null,
   "metadata": {},
   "outputs": [],
   "source": []
  }
 ],
 "metadata": {
  "kernelspec": {
   "display_name": "Python 3",
   "language": "python",
   "name": "python3"
  },
  "language_info": {
   "codemirror_mode": {
    "name": "ipython",
    "version": 3
   },
   "file_extension": ".py",
   "mimetype": "text/x-python",
   "name": "python",
   "nbconvert_exporter": "python",
   "pygments_lexer": "ipython3",
   "version": "3.7.0"
  }
 },
 "nbformat": 4,
 "nbformat_minor": 2
}
