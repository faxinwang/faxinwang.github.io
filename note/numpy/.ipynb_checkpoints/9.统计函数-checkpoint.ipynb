{
 "cells": [
  {
   "cell_type": "markdown",
   "metadata": {},
   "source": [
    "# numpy 中的统计函数\n",
    "\n",
    "## np.amin()  np.amax()\n",
    "统计数组中的最大值,最小值"
   ]
  },
  {
   "cell_type": "code",
   "execution_count": 1,
   "metadata": {},
   "outputs": [],
   "source": [
    "import numpy as np"
   ]
  },
  {
   "cell_type": "code",
   "execution_count": 13,
   "metadata": {},
   "outputs": [
    {
     "name": "stdout",
     "output_type": "stream",
     "text": [
      "[[ 1  2  3  4]\n",
      " [ 5  6  7  8]\n",
      " [ 9 10 11 12]]\n"
     ]
    }
   ],
   "source": [
    "a = np.arange(1,13).reshape(3,4)\n",
    "print(a)"
   ]
  },
  {
   "cell_type": "code",
   "execution_count": 14,
   "metadata": {},
   "outputs": [
    {
     "name": "stdout",
     "output_type": "stream",
     "text": [
      "1\n",
      "[1 2 3 4]\n",
      "[1 5 9]\n"
     ]
    }
   ],
   "source": [
    "print(np.amin(a))          # 总体最小值 1\n",
    "print(np.amin(a, axis=0))  # 每一列上的最小值\n",
    "print(np.amin(a, axis=1))  # 每一行上的最小值"
   ]
  },
  {
   "cell_type": "markdown",
   "metadata": {},
   "source": [
    "## np.argmin(), np.argmax()\n",
    "\n",
    "返回数组中最大值最小值的下标"
   ]
  },
  {
   "cell_type": "code",
   "execution_count": 17,
   "metadata": {},
   "outputs": [
    {
     "name": "stdout",
     "output_type": "stream",
     "text": [
      "3\n",
      "[0 1 2 0]\n",
      "[3 0 3]\n"
     ]
    }
   ],
   "source": [
    "b = np.array([(1,3,3,0), \n",
    "              (1,2,3,4),\n",
    "              (4,3,2,1)] )\n",
    "print(np.argmin(b))         # 全体最小值, 如果不加axis参数的话, 会把参数数组展开成一维\n",
    "print(np.argmin(b, axis=0)) # 每一列上最小值的下标\n",
    "print(np.argmin(b, axis=1)) # 每一行上最小值的下标"
   ]
  },
  {
   "cell_type": "markdown",
   "metadata": {},
   "source": [
    "## np.ptp()\n",
    "\n",
    "计算数组中元素最大值与最小值的差"
   ]
  },
  {
   "cell_type": "code",
   "execution_count": 4,
   "metadata": {},
   "outputs": [
    {
     "name": "stdout",
     "output_type": "stream",
     "text": [
      "[[ 1  2  3  4]\n",
      " [ 5  6  7  8]\n",
      " [ 9 10 11 12]] \n",
      "\n",
      "11\n",
      "[8 8 8 8]\n",
      "[3 3 3]\n"
     ]
    }
   ],
   "source": [
    "print(a, '\\n')\n",
    "print(np.ptp(a))           # 总体上 12 - 1 = 11\n",
    "print(np.ptp(a, axis=0))   # 列方向上\n",
    "print(np.ptp(a, axis=1))   # 行方向上"
   ]
  },
  {
   "cell_type": "markdown",
   "metadata": {},
   "source": [
    "## np.median()\n",
    "\n",
    "计算数组的中位数"
   ]
  },
  {
   "cell_type": "code",
   "execution_count": 5,
   "metadata": {},
   "outputs": [
    {
     "name": "stdout",
     "output_type": "stream",
     "text": [
      "[[ 1  3  3  1]\n",
      " [ 4  5  6 10]]\n"
     ]
    }
   ],
   "source": [
    "a = np.array([[1,3,3,1], [4,5,6,10]])\n",
    "print(a)"
   ]
  },
  {
   "cell_type": "code",
   "execution_count": 6,
   "metadata": {},
   "outputs": [
    {
     "name": "stdout",
     "output_type": "stream",
     "text": [
      "3.5\n",
      "[2.5 4.  4.5 5.5]\n",
      "[2.  5.5]\n"
     ]
    }
   ],
   "source": [
    "print(np.median(a))          # 数组的中位数\n",
    "print(np.median(a, axis=0))  # 每一列的中位数\n",
    "print(np.median(a, axis=1))  # 每一行的中位数"
   ]
  },
  {
   "cell_type": "markdown",
   "metadata": {},
   "source": [
    "## np.mean()\n",
    "计算平均值"
   ]
  },
  {
   "cell_type": "code",
   "execution_count": 7,
   "metadata": {},
   "outputs": [
    {
     "name": "stdout",
     "output_type": "stream",
     "text": [
      "4.125 4.125\n",
      "[2.5 4.  4.5 5.5]\n",
      "[2.  5.5]\n"
     ]
    }
   ],
   "source": [
    "print(np.mean(a), a.mean())\n",
    "print(np.median(a, axis=0))  # 每一列的平均值\n",
    "print(np.median(a, axis=1))  # 每一行的平均值"
   ]
  },
  {
   "cell_type": "markdown",
   "metadata": {},
   "source": [
    "## np.average()\n",
    "计算数组的加权平均值\n",
    "例如数组[1,2,3,4]各元素对于的权值为[4,3,2,1], 则其对应的加权平均值为:<br>\n",
    "加权平均值 = (1 x 4 + 2 x 3 + 3 x 2 + 4 x 1) / (4 + 3 + 2 + 1)"
   ]
  },
  {
   "cell_type": "code",
   "execution_count": 8,
   "metadata": {},
   "outputs": [
    {
     "name": "stdout",
     "output_type": "stream",
     "text": [
      "2.5\n",
      "2.0\n"
     ]
    }
   ],
   "source": [
    "v = np.array([1,2,3,4])\n",
    "w = np.array([4,3,2,1])\n",
    "print(np.average(v))   # 不指定权值时, 相当于求平均值\n",
    "print(np.average(v, weights=w))"
   ]
  },
  {
   "cell_type": "code",
   "execution_count": 9,
   "metadata": {},
   "outputs": [
    {
     "name": "stdout",
     "output_type": "stream",
     "text": [
      "[[ 0  1  2  3]\n",
      " [ 4  5  6  7]\n",
      " [ 8  9 10 11]] \n",
      "\n",
      "[1.5 5.5 9.5]\n",
      "[1. 5. 9.]\n"
     ]
    }
   ],
   "source": [
    "v = np.arange(12).reshape(3,4)\n",
    "print(v, '\\n')\n",
    "print(np.average(v, axis=1))   \n",
    "print(np.average(v, weights=w, axis=1))  #计算每行上的加权平均值"
   ]
  },
  {
   "cell_type": "markdown",
   "metadata": {},
   "source": [
    "## np.std()\n",
    " 计算标准差"
   ]
  },
  {
   "cell_type": "code",
   "execution_count": 10,
   "metadata": {},
   "outputs": [
    {
     "name": "stdout",
     "output_type": "stream",
     "text": [
      "0.0\n",
      "1.118033988749895\n",
      "1.25\n",
      "1.118033988749895\n"
     ]
    }
   ],
   "source": [
    "print(np.std(np.array([1,1,1,1])))\n",
    "v = np.array([1,2,3,4])\n",
    "print(np.std(v))\n",
    "var = np.mean(((v - v.mean()) ** 2)) # 方差\n",
    "print(var)\n",
    "print(np.sqrt(var))"
   ]
  },
  {
   "cell_type": "markdown",
   "metadata": {},
   "source": [
    "## np.var()\n",
    " 计算方差"
   ]
  },
  {
   "cell_type": "code",
   "execution_count": 11,
   "metadata": {},
   "outputs": [
    {
     "name": "stdout",
     "output_type": "stream",
     "text": [
      "0.0\n",
      "1.25\n"
     ]
    }
   ],
   "source": [
    "print(np.var(np.array([1,1,1,1])))\n",
    "print(np.var(np.array([1,2,3,4])))"
   ]
  }
 ],
 "metadata": {
  "kernelspec": {
   "display_name": "Python 3",
   "language": "python",
   "name": "python3"
  },
  "language_info": {
   "codemirror_mode": {
    "name": "ipython",
    "version": 3
   },
   "file_extension": ".py",
   "mimetype": "text/x-python",
   "name": "python",
   "nbconvert_exporter": "python",
   "pygments_lexer": "ipython3",
   "version": "3.7.0"
  }
 },
 "nbformat": 4,
 "nbformat_minor": 2
}
