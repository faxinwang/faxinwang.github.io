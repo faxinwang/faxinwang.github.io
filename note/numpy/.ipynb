{
 "cells": [
  {
   "cell_type": "code",
   "execution_count": 1,
   "metadata": {},
   "outputs": [],
   "source": [
    "import numpy as np"
   ]
  },
  {
   "cell_type": "markdown",
   "metadata": {},
   "source": [
    "函数原型:\n",
    "numpy.array(object, dtype = None, copy = True, order = None, subok = False, ndmin = 0)"
   ]
  },
  {
   "cell_type": "code",
   "execution_count": 3,
   "metadata": {},
   "outputs": [
    {
     "name": "stdout",
     "output_type": "stream",
     "text": [
      "[1 2 3 4 5]\n"
     ]
    }
   ],
   "source": [
    "# 创建向量:\n",
    "v = [1,2,3,4,5]\n",
    "print(np.array(v))\n"
   ]
  },
  {
   "cell_type": "code",
   "execution_count": 8,
   "metadata": {},
   "outputs": [
    {
     "name": "stdout",
     "output_type": "stream",
     "text": [
      "[[1 2 3 4 5]\n",
      " [1 2 3 4 5]]\n"
     ]
    }
   ],
   "source": [
    "# 创建矩阵\n",
    "print(np.array([v,v]))"
   ]
  },
  {
   "cell_type": "code",
   "execution_count": 10,
   "metadata": {},
   "outputs": [
    {
     "name": "stdout",
     "output_type": "stream",
     "text": [
      "[[1 1 1 1 1]\n",
      " [1 2 3 4 5]]\n"
     ]
    }
   ],
   "source": [
    "# 创建矩阵\n",
    "print(np.array( [[1,1,1,1,1],v] ) )"
   ]
  },
  {
   "cell_type": "code",
   "execution_count": 13,
   "metadata": {},
   "outputs": [
    {
     "name": "stdout",
     "output_type": "stream",
     "text": [
      "dmin = 1 :  [1 2 3 4 5]\n",
      "dmin = 2 :  [[1 2 3 4 5]]\n",
      "dmin = 3 :  [[[1 2 3 4 5]]]\n"
     ]
    }
   ],
   "source": [
    "# ndmin \n",
    "print('dmin = 1 : ', np.array(v, ndmin=1))\n",
    "print('dmin = 2 : ', np.array(v, ndmin=2))\n",
    "print('dmin = 3 : ', np.array(v, ndmin=3))"
   ]
  },
  {
   "cell_type": "code",
   "execution_count": 15,
   "metadata": {},
   "outputs": [
    {
     "name": "stdout",
     "output_type": "stream",
     "text": [
      "[1. 2. 3. 4. 5.]\n",
      "[1 2 3 4 5]\n",
      "[1.+0.j 2.+0.j 3.+0.j 4.+0.j 5.+0.j]\n"
     ]
    }
   ],
   "source": [
    "# dtype \n",
    "print(np.array(v, dtype=np.float))\n",
    "print(np.array(v, dtype=np.int16))\n",
    "print(np.array(v, dtype=np.complex))  # 复数类型"
   ]
  }
 ],
 "metadata": {
  "kernelspec": {
   "display_name": "Python 3",
   "language": "python",
   "name": "python3"
  },
  "language_info": {
   "codemirror_mode": {
    "name": "ipython",
    "version": 3
   },
   "file_extension": ".py",
   "mimetype": "text/x-python",
   "name": "python",
   "nbconvert_exporter": "python",
   "pygments_lexer": "ipython3",
   "version": "3.7.0"
  }
 },
 "nbformat": 4,
 "nbformat_minor": 2
}
